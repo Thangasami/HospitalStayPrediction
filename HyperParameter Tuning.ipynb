{
 "cells": [
  {
   "cell_type": "code",
   "execution_count": 1,
   "metadata": {},
   "outputs": [],
   "source": [
    "import pandas as pd\n",
    "import numpy as np\n",
    "import io\n",
    "from sklearn.model_selection import RandomizedSearchCV\n",
    "from lightgbm import LGBMClassifier\n",
    "from sklearn.tree import DecisionTreeClassifier\n",
    "from sklearn.metrics import accuracy_score\n",
    "from sklearn.linear_model import LogisticRegression\n",
    "from catboost import CatBoostClassifier\n",
    "from lightgbm import LGBMClassifier\n",
    "from xgboost import XGBClassifier\n",
    "from sklearn.ensemble import RandomForestClassifier\n",
    "from sklearn.preprocessing import StandardScaler, RobustScaler\n",
    "from sklearn.model_selection import KFold , StratifiedKFold\n",
    "from sklearn.feature_selection import SelectKBest, f_classif\n",
    "import warnings\n",
    "from sklearn.svm import SVC\n",
    "from sklearn.calibration import CalibratedClassifierCV\n",
    "warnings.filterwarnings(\"ignore\")"
   ]
  },
  {
   "cell_type": "code",
   "execution_count": 2,
   "metadata": {},
   "outputs": [],
   "source": [
    "train = pd.read_csv('train.csv')\n",
    "test = pd.read_csv('test.csv')\n"
   ]
  },
  {
   "cell_type": "code",
   "execution_count": 3,
   "metadata": {},
   "outputs": [],
   "source": [
    "pd.set_option('display.max_rows', None)\n",
    "pd.set_option('display.max_columns', None)"
   ]
  },
  {
   "cell_type": "code",
   "execution_count": 4,
   "metadata": {},
   "outputs": [],
   "source": [
    "train['source'] = 'train'\n",
    "test['source'] = 'test'"
   ]
  },
  {
   "cell_type": "code",
   "execution_count": 5,
   "metadata": {},
   "outputs": [],
   "source": [
    "df = pd.concat([train, test])"
   ]
  },
  {
   "cell_type": "code",
   "execution_count": 6,
   "metadata": {},
   "outputs": [],
   "source": [
    "df['Stay'] = df['Stay'].replace({'0-10' : 0,\n",
    "                                     '11-20' : 1,\n",
    "                                     '21-30': 2,\n",
    "                                     '31-40': 3,\n",
    "                                     '41-50': 4,\n",
    "                                     '51-60': 5,\n",
    "                                     '61-70': 6, \n",
    "                                    '71-80': 7,\n",
    "                                      '81-90': 8,\n",
    "                                      '91-100': 9,\n",
    "                                      'More than 100 Days' : 10\n",
    "                                     })"
   ]
  },
  {
   "cell_type": "markdown",
   "metadata": {},
   "source": [
    "### df.info()"
   ]
  },
  {
   "cell_type": "code",
   "execution_count": 7,
   "metadata": {},
   "outputs": [
    {
     "data": {
      "text/plain": [
       "a    204730\n",
       "b     98884\n",
       "c     66147\n",
       "e     35428\n",
       "d     29048\n",
       "f     15252\n",
       "g      6006\n",
       "Name: Hospital_type_code, dtype: int64"
      ]
     },
     "execution_count": 7,
     "metadata": {},
     "output_type": "execute_result"
    }
   ],
   "source": [
    "df['Hospital_type_code'].value_counts()"
   ]
  },
  {
   "cell_type": "code",
   "execution_count": 8,
   "metadata": {},
   "outputs": [],
   "source": [
    "df['Hospital_type_code'] = df['Hospital_type_code'].replace({'a' : 0,\n",
    "                                     'b' : 1,\n",
    "                                     'c': 2,\n",
    "                                     'd': 3,\n",
    "                                     'e': 4,\n",
    "                                     'f': 5,\n",
    "                                     'g': 6\n",
    "                                     })"
   ]
  },
  {
   "cell_type": "code",
   "execution_count": 9,
   "metadata": {},
   "outputs": [
    {
     "data": {
      "text/plain": [
       "X    190849\n",
       "Y    174707\n",
       "Z     89939\n",
       "Name: Hospital_region_code, dtype: int64"
      ]
     },
     "execution_count": 9,
     "metadata": {},
     "output_type": "execute_result"
    }
   ],
   "source": [
    "df['Hospital_region_code'].value_counts()"
   ]
  },
  {
   "cell_type": "code",
   "execution_count": 10,
   "metadata": {},
   "outputs": [],
   "source": [
    "df['Hospital_region_code'] = df['Hospital_region_code'].replace({'X' : 0,\n",
    "                                     'Y' : 1,\n",
    "                                     'Z': 2})"
   ]
  },
  {
   "cell_type": "code",
   "execution_count": 11,
   "metadata": {},
   "outputs": [
    {
     "data": {
      "text/plain": [
       "gynecology            356688\n",
       "anesthesia             42358\n",
       "radiotherapy           41033\n",
       "TB & Chest disease     13751\n",
       "surgery                 1665\n",
       "Name: Department, dtype: int64"
      ]
     },
     "execution_count": 11,
     "metadata": {},
     "output_type": "execute_result"
    }
   ],
   "source": [
    "df['Department'].value_counts()"
   ]
  },
  {
   "cell_type": "code",
   "execution_count": 12,
   "metadata": {},
   "outputs": [],
   "source": [
    "dept = pd.get_dummies(df['Department'])"
   ]
  },
  {
   "cell_type": "code",
   "execution_count": 13,
   "metadata": {},
   "outputs": [],
   "source": [
    "df = pd.concat([df, dept], axis = 1)"
   ]
  },
  {
   "cell_type": "code",
   "execution_count": 14,
   "metadata": {},
   "outputs": [
    {
     "data": {
      "text/plain": [
       "(455495, 24)"
      ]
     },
     "execution_count": 14,
     "metadata": {},
     "output_type": "execute_result"
    }
   ],
   "source": [
    "df.shape"
   ]
  },
  {
   "cell_type": "code",
   "execution_count": 15,
   "metadata": {},
   "outputs": [
    {
     "data": {
      "text/plain": [
       "R    182939\n",
       "Q    152046\n",
       "S    111166\n",
       "P      7199\n",
       "T      2133\n",
       "U        12\n",
       "Name: Ward_Type, dtype: int64"
      ]
     },
     "execution_count": 15,
     "metadata": {},
     "output_type": "execute_result"
    }
   ],
   "source": [
    "df['Ward_Type'].value_counts()"
   ]
  },
  {
   "cell_type": "code",
   "execution_count": 16,
   "metadata": {},
   "outputs": [],
   "source": [
    "df['Ward_Type'] = df['Ward_Type'].replace({'R' : 0,\n",
    "                                    'Q' : 1,\n",
    "                                    'S' : 2,\n",
    "                                    'P' : 3,\n",
    "                                    'T' : 4,\n",
    "                                     'U': 5})"
   ]
  },
  {
   "cell_type": "code",
   "execution_count": 17,
   "metadata": {},
   "outputs": [],
   "source": [
    "del df['Department']"
   ]
  },
  {
   "cell_type": "code",
   "execution_count": 18,
   "metadata": {},
   "outputs": [
    {
     "data": {
      "text/plain": [
       "F    161470\n",
       "E     79058\n",
       "D     74312\n",
       "C     50279\n",
       "B     50116\n",
       "A     40260\n",
       "Name: Ward_Facility_Code, dtype: int64"
      ]
     },
     "execution_count": 18,
     "metadata": {},
     "output_type": "execute_result"
    }
   ],
   "source": [
    "df['Ward_Facility_Code'].value_counts()"
   ]
  },
  {
   "cell_type": "code",
   "execution_count": 19,
   "metadata": {},
   "outputs": [
    {
     "data": {
      "text/plain": [
       "2.0    176451\n",
       "3.0    158942\n",
       "4.0     82387\n",
       "1.0     37567\n",
       "Name: Bed Grade, dtype: int64"
      ]
     },
     "execution_count": 19,
     "metadata": {},
     "output_type": "execute_result"
    }
   ],
   "source": [
    "df['Bed Grade'].value_counts()"
   ]
  },
  {
   "cell_type": "code",
   "execution_count": 20,
   "metadata": {},
   "outputs": [],
   "source": [
    "df['Ward_Facility_Code'] = df['Ward_Facility_Code'].replace({'A' : 0,\n",
    "                                    'B' : 1,\n",
    "                                    'C' : 2,\n",
    "                                    'D' : 3,\n",
    "                                    'E' : 4,\n",
    "                                     'F': 5})"
   ]
  },
  {
   "cell_type": "code",
   "execution_count": 21,
   "metadata": {},
   "outputs": [],
   "source": [
    "df['Bed Grade'] = df['Bed Grade'].transform(lambda x: x.fillna('2.0'))"
   ]
  },
  {
   "cell_type": "code",
   "execution_count": 22,
   "metadata": {},
   "outputs": [
    {
     "data": {
      "text/plain": [
       "Trauma       217672\n",
       "Emergency    168363\n",
       "Urgent        69460\n",
       "Name: Type of Admission, dtype: int64"
      ]
     },
     "execution_count": 22,
     "metadata": {},
     "output_type": "execute_result"
    }
   ],
   "source": [
    "df['Type of Admission'].value_counts()  "
   ]
  },
  {
   "cell_type": "code",
   "execution_count": 23,
   "metadata": {},
   "outputs": [],
   "source": [
    "adtype = pd.get_dummies(df['Type of Admission'])"
   ]
  },
  {
   "cell_type": "code",
   "execution_count": 24,
   "metadata": {},
   "outputs": [],
   "source": [
    "df = pd.concat([df, adtype], axis = 1)"
   ]
  },
  {
   "cell_type": "code",
   "execution_count": 25,
   "metadata": {},
   "outputs": [
    {
     "name": "stdout",
     "output_type": "stream",
     "text": [
      "<class 'pandas.core.frame.DataFrame'>\n",
      "Int64Index: 455495 entries, 0 to 137056\n",
      "Data columns (total 26 columns):\n",
      " #   Column                             Non-Null Count   Dtype  \n",
      "---  ------                             --------------   -----  \n",
      " 0   case_id                            455495 non-null  int64  \n",
      " 1   Hospital_code                      455495 non-null  int64  \n",
      " 2   Hospital_type_code                 455495 non-null  int64  \n",
      " 3   City_Code_Hospital                 455495 non-null  int64  \n",
      " 4   Hospital_region_code               455495 non-null  int64  \n",
      " 5   Available Extra Rooms in Hospital  455495 non-null  int64  \n",
      " 6   Ward_Type                          455495 non-null  int64  \n",
      " 7   Ward_Facility_Code                 455495 non-null  int64  \n",
      " 8   Bed Grade                          455495 non-null  object \n",
      " 9   patientid                          455495 non-null  int64  \n",
      " 10  City_Code_Patient                  448806 non-null  float64\n",
      " 11  Type of Admission                  455495 non-null  object \n",
      " 12  Severity of Illness                455495 non-null  object \n",
      " 13  Visitors with Patient              455495 non-null  int64  \n",
      " 14  Age                                455495 non-null  object \n",
      " 15  Admission_Deposit                  455495 non-null  float64\n",
      " 16  Stay                               318438 non-null  float64\n",
      " 17  source                             455495 non-null  object \n",
      " 18  TB & Chest disease                 455495 non-null  uint8  \n",
      " 19  anesthesia                         455495 non-null  uint8  \n",
      " 20  gynecology                         455495 non-null  uint8  \n",
      " 21  radiotherapy                       455495 non-null  uint8  \n",
      " 22  surgery                            455495 non-null  uint8  \n",
      " 23  Emergency                          455495 non-null  uint8  \n",
      " 24  Trauma                             455495 non-null  uint8  \n",
      " 25  Urgent                             455495 non-null  uint8  \n",
      "dtypes: float64(3), int64(10), object(5), uint8(8)\n",
      "memory usage: 69.5+ MB\n"
     ]
    }
   ],
   "source": [
    "df.info()"
   ]
  },
  {
   "cell_type": "code",
   "execution_count": 26,
   "metadata": {},
   "outputs": [],
   "source": [
    "del df['Type of Admission'] "
   ]
  },
  {
   "cell_type": "code",
   "execution_count": 27,
   "metadata": {},
   "outputs": [
    {
     "data": {
      "text/plain": [
       "Moderate    251565\n",
       "Minor       122735\n",
       "Extreme      81195\n",
       "Name: Severity of Illness, dtype: int64"
      ]
     },
     "execution_count": 27,
     "metadata": {},
     "output_type": "execute_result"
    }
   ],
   "source": [
    "df['Severity of Illness'].value_counts()"
   ]
  },
  {
   "cell_type": "code",
   "execution_count": 28,
   "metadata": {},
   "outputs": [],
   "source": [
    "sev = pd.get_dummies(df['Severity of Illness'])"
   ]
  },
  {
   "cell_type": "code",
   "execution_count": 29,
   "metadata": {},
   "outputs": [],
   "source": [
    "df = pd.concat([df, sev], axis = 1)"
   ]
  },
  {
   "cell_type": "code",
   "execution_count": 30,
   "metadata": {},
   "outputs": [
    {
     "data": {
      "text/plain": [
       "(455495, 28)"
      ]
     },
     "execution_count": 30,
     "metadata": {},
     "output_type": "execute_result"
    }
   ],
   "source": [
    "df.shape"
   ]
  },
  {
   "cell_type": "code",
   "execution_count": 31,
   "metadata": {},
   "outputs": [],
   "source": [
    "del df['Severity of Illness'] "
   ]
  },
  {
   "cell_type": "code",
   "execution_count": 32,
   "metadata": {},
   "outputs": [
    {
     "data": {
      "text/plain": [
       "41-50     91495\n",
       "31-40     90420\n",
       "51-60     69506\n",
       "21-30     58560\n",
       "71-80     50737\n",
       "61-70     48619\n",
       "11-20     23871\n",
       "81-90     11240\n",
       "0-10       9140\n",
       "91-100     1907\n",
       "Name: Age, dtype: int64"
      ]
     },
     "execution_count": 32,
     "metadata": {},
     "output_type": "execute_result"
    }
   ],
   "source": [
    "df['Age'].value_counts()"
   ]
  },
  {
   "cell_type": "code",
   "execution_count": 33,
   "metadata": {},
   "outputs": [],
   "source": [
    "df['Age'] = df['Age'].replace({'0-10' : 0,\n",
    "                                     '11-20' : 1,\n",
    "                                     '21-30': 2,\n",
    "                                     '31-40': 3,\n",
    "                                     '41-50': 4,\n",
    "                                     '51-60': 5,\n",
    "                                     '61-70': 6, \n",
    "                                    '71-80': 7,\n",
    "                                      '81-90': 8,\n",
    "                                      '91-100': 9,\n",
    "                                     })"
   ]
  },
  {
   "cell_type": "code",
   "execution_count": 34,
   "metadata": {},
   "outputs": [],
   "source": [
    "df['City_Code_Patient'] = df.groupby(['Hospital_type_code', 'City_Code_Hospital', 'Hospital_region_code', 'Hospital_code']).City_Code_Patient.transform(lambda x: x.fillna(x.median()))"
   ]
  },
  {
   "cell_type": "code",
   "execution_count": 35,
   "metadata": {},
   "outputs": [],
   "source": [
    "Train = df[df['source'] == 'train']"
   ]
  },
  {
   "cell_type": "code",
   "execution_count": 36,
   "metadata": {},
   "outputs": [],
   "source": [
    "Test = df[df['source'] == 'test']"
   ]
  },
  {
   "cell_type": "code",
   "execution_count": 37,
   "metadata": {},
   "outputs": [
    {
     "data": {
      "text/html": [
       "<div>\n",
       "<style scoped>\n",
       "    .dataframe tbody tr th:only-of-type {\n",
       "        vertical-align: middle;\n",
       "    }\n",
       "\n",
       "    .dataframe tbody tr th {\n",
       "        vertical-align: top;\n",
       "    }\n",
       "\n",
       "    .dataframe thead th {\n",
       "        text-align: right;\n",
       "    }\n",
       "</style>\n",
       "<table border=\"1\" class=\"dataframe\">\n",
       "  <thead>\n",
       "    <tr style=\"text-align: right;\">\n",
       "      <th></th>\n",
       "      <th>case_id</th>\n",
       "      <th>Hospital_code</th>\n",
       "      <th>Hospital_type_code</th>\n",
       "      <th>City_Code_Hospital</th>\n",
       "      <th>Hospital_region_code</th>\n",
       "      <th>Available Extra Rooms in Hospital</th>\n",
       "      <th>Ward_Type</th>\n",
       "      <th>Ward_Facility_Code</th>\n",
       "      <th>Bed Grade</th>\n",
       "      <th>patientid</th>\n",
       "      <th>City_Code_Patient</th>\n",
       "      <th>Visitors with Patient</th>\n",
       "      <th>Age</th>\n",
       "      <th>Admission_Deposit</th>\n",
       "      <th>Stay</th>\n",
       "      <th>source</th>\n",
       "      <th>TB &amp; Chest disease</th>\n",
       "      <th>anesthesia</th>\n",
       "      <th>gynecology</th>\n",
       "      <th>radiotherapy</th>\n",
       "      <th>surgery</th>\n",
       "      <th>Emergency</th>\n",
       "      <th>Trauma</th>\n",
       "      <th>Urgent</th>\n",
       "      <th>Extreme</th>\n",
       "      <th>Minor</th>\n",
       "      <th>Moderate</th>\n",
       "    </tr>\n",
       "  </thead>\n",
       "  <tbody>\n",
       "    <tr>\n",
       "      <th>0</th>\n",
       "      <td>1</td>\n",
       "      <td>8</td>\n",
       "      <td>2</td>\n",
       "      <td>3</td>\n",
       "      <td>2</td>\n",
       "      <td>3</td>\n",
       "      <td>0</td>\n",
       "      <td>5</td>\n",
       "      <td>2.0</td>\n",
       "      <td>31397</td>\n",
       "      <td>7.0</td>\n",
       "      <td>2</td>\n",
       "      <td>5</td>\n",
       "      <td>4911.0</td>\n",
       "      <td>0.0</td>\n",
       "      <td>train</td>\n",
       "      <td>0</td>\n",
       "      <td>0</td>\n",
       "      <td>0</td>\n",
       "      <td>1</td>\n",
       "      <td>0</td>\n",
       "      <td>1</td>\n",
       "      <td>0</td>\n",
       "      <td>0</td>\n",
       "      <td>1</td>\n",
       "      <td>0</td>\n",
       "      <td>0</td>\n",
       "    </tr>\n",
       "    <tr>\n",
       "      <th>1</th>\n",
       "      <td>2</td>\n",
       "      <td>2</td>\n",
       "      <td>2</td>\n",
       "      <td>5</td>\n",
       "      <td>2</td>\n",
       "      <td>2</td>\n",
       "      <td>2</td>\n",
       "      <td>5</td>\n",
       "      <td>2.0</td>\n",
       "      <td>31397</td>\n",
       "      <td>7.0</td>\n",
       "      <td>2</td>\n",
       "      <td>5</td>\n",
       "      <td>5954.0</td>\n",
       "      <td>4.0</td>\n",
       "      <td>train</td>\n",
       "      <td>0</td>\n",
       "      <td>0</td>\n",
       "      <td>0</td>\n",
       "      <td>1</td>\n",
       "      <td>0</td>\n",
       "      <td>0</td>\n",
       "      <td>1</td>\n",
       "      <td>0</td>\n",
       "      <td>1</td>\n",
       "      <td>0</td>\n",
       "      <td>0</td>\n",
       "    </tr>\n",
       "    <tr>\n",
       "      <th>2</th>\n",
       "      <td>3</td>\n",
       "      <td>10</td>\n",
       "      <td>4</td>\n",
       "      <td>1</td>\n",
       "      <td>0</td>\n",
       "      <td>2</td>\n",
       "      <td>2</td>\n",
       "      <td>4</td>\n",
       "      <td>2.0</td>\n",
       "      <td>31397</td>\n",
       "      <td>7.0</td>\n",
       "      <td>2</td>\n",
       "      <td>5</td>\n",
       "      <td>4745.0</td>\n",
       "      <td>3.0</td>\n",
       "      <td>train</td>\n",
       "      <td>0</td>\n",
       "      <td>1</td>\n",
       "      <td>0</td>\n",
       "      <td>0</td>\n",
       "      <td>0</td>\n",
       "      <td>0</td>\n",
       "      <td>1</td>\n",
       "      <td>0</td>\n",
       "      <td>1</td>\n",
       "      <td>0</td>\n",
       "      <td>0</td>\n",
       "    </tr>\n",
       "    <tr>\n",
       "      <th>3</th>\n",
       "      <td>4</td>\n",
       "      <td>26</td>\n",
       "      <td>1</td>\n",
       "      <td>2</td>\n",
       "      <td>1</td>\n",
       "      <td>2</td>\n",
       "      <td>0</td>\n",
       "      <td>3</td>\n",
       "      <td>2.0</td>\n",
       "      <td>31397</td>\n",
       "      <td>7.0</td>\n",
       "      <td>2</td>\n",
       "      <td>5</td>\n",
       "      <td>7272.0</td>\n",
       "      <td>4.0</td>\n",
       "      <td>train</td>\n",
       "      <td>0</td>\n",
       "      <td>0</td>\n",
       "      <td>0</td>\n",
       "      <td>1</td>\n",
       "      <td>0</td>\n",
       "      <td>0</td>\n",
       "      <td>1</td>\n",
       "      <td>0</td>\n",
       "      <td>1</td>\n",
       "      <td>0</td>\n",
       "      <td>0</td>\n",
       "    </tr>\n",
       "    <tr>\n",
       "      <th>4</th>\n",
       "      <td>5</td>\n",
       "      <td>26</td>\n",
       "      <td>1</td>\n",
       "      <td>2</td>\n",
       "      <td>1</td>\n",
       "      <td>2</td>\n",
       "      <td>2</td>\n",
       "      <td>3</td>\n",
       "      <td>2.0</td>\n",
       "      <td>31397</td>\n",
       "      <td>7.0</td>\n",
       "      <td>2</td>\n",
       "      <td>5</td>\n",
       "      <td>5558.0</td>\n",
       "      <td>4.0</td>\n",
       "      <td>train</td>\n",
       "      <td>0</td>\n",
       "      <td>0</td>\n",
       "      <td>0</td>\n",
       "      <td>1</td>\n",
       "      <td>0</td>\n",
       "      <td>0</td>\n",
       "      <td>1</td>\n",
       "      <td>0</td>\n",
       "      <td>1</td>\n",
       "      <td>0</td>\n",
       "      <td>0</td>\n",
       "    </tr>\n",
       "  </tbody>\n",
       "</table>\n",
       "</div>"
      ],
      "text/plain": [
       "   case_id  Hospital_code  Hospital_type_code  City_Code_Hospital  \\\n",
       "0        1              8                   2                   3   \n",
       "1        2              2                   2                   5   \n",
       "2        3             10                   4                   1   \n",
       "3        4             26                   1                   2   \n",
       "4        5             26                   1                   2   \n",
       "\n",
       "   Hospital_region_code  Available Extra Rooms in Hospital  Ward_Type  \\\n",
       "0                     2                                  3          0   \n",
       "1                     2                                  2          2   \n",
       "2                     0                                  2          2   \n",
       "3                     1                                  2          0   \n",
       "4                     1                                  2          2   \n",
       "\n",
       "   Ward_Facility_Code Bed Grade  patientid  City_Code_Patient  \\\n",
       "0                   5       2.0      31397                7.0   \n",
       "1                   5       2.0      31397                7.0   \n",
       "2                   4       2.0      31397                7.0   \n",
       "3                   3       2.0      31397                7.0   \n",
       "4                   3       2.0      31397                7.0   \n",
       "\n",
       "   Visitors with Patient  Age  Admission_Deposit  Stay source  \\\n",
       "0                      2    5             4911.0   0.0  train   \n",
       "1                      2    5             5954.0   4.0  train   \n",
       "2                      2    5             4745.0   3.0  train   \n",
       "3                      2    5             7272.0   4.0  train   \n",
       "4                      2    5             5558.0   4.0  train   \n",
       "\n",
       "   TB & Chest disease  anesthesia  gynecology  radiotherapy  surgery  \\\n",
       "0                   0           0           0             1        0   \n",
       "1                   0           0           0             1        0   \n",
       "2                   0           1           0             0        0   \n",
       "3                   0           0           0             1        0   \n",
       "4                   0           0           0             1        0   \n",
       "\n",
       "   Emergency  Trauma  Urgent  Extreme  Minor  Moderate  \n",
       "0          1       0       0        1      0         0  \n",
       "1          0       1       0        1      0         0  \n",
       "2          0       1       0        1      0         0  \n",
       "3          0       1       0        1      0         0  \n",
       "4          0       1       0        1      0         0  "
      ]
     },
     "execution_count": 37,
     "metadata": {},
     "output_type": "execute_result"
    }
   ],
   "source": [
    "Train.head()"
   ]
  },
  {
   "cell_type": "code",
   "execution_count": 38,
   "metadata": {},
   "outputs": [
    {
     "data": {
      "text/html": [
       "<div>\n",
       "<style scoped>\n",
       "    .dataframe tbody tr th:only-of-type {\n",
       "        vertical-align: middle;\n",
       "    }\n",
       "\n",
       "    .dataframe tbody tr th {\n",
       "        vertical-align: top;\n",
       "    }\n",
       "\n",
       "    .dataframe thead th {\n",
       "        text-align: right;\n",
       "    }\n",
       "</style>\n",
       "<table border=\"1\" class=\"dataframe\">\n",
       "  <thead>\n",
       "    <tr style=\"text-align: right;\">\n",
       "      <th></th>\n",
       "      <th>case_id</th>\n",
       "      <th>Hospital_code</th>\n",
       "      <th>Hospital_type_code</th>\n",
       "      <th>City_Code_Hospital</th>\n",
       "      <th>Hospital_region_code</th>\n",
       "      <th>Available Extra Rooms in Hospital</th>\n",
       "      <th>Ward_Type</th>\n",
       "      <th>Ward_Facility_Code</th>\n",
       "      <th>Bed Grade</th>\n",
       "      <th>patientid</th>\n",
       "      <th>City_Code_Patient</th>\n",
       "      <th>Visitors with Patient</th>\n",
       "      <th>Age</th>\n",
       "      <th>Admission_Deposit</th>\n",
       "      <th>Stay</th>\n",
       "      <th>source</th>\n",
       "      <th>TB &amp; Chest disease</th>\n",
       "      <th>anesthesia</th>\n",
       "      <th>gynecology</th>\n",
       "      <th>radiotherapy</th>\n",
       "      <th>surgery</th>\n",
       "      <th>Emergency</th>\n",
       "      <th>Trauma</th>\n",
       "      <th>Urgent</th>\n",
       "      <th>Extreme</th>\n",
       "      <th>Minor</th>\n",
       "      <th>Moderate</th>\n",
       "    </tr>\n",
       "  </thead>\n",
       "  <tbody>\n",
       "    <tr>\n",
       "      <th>0</th>\n",
       "      <td>318439</td>\n",
       "      <td>21</td>\n",
       "      <td>2</td>\n",
       "      <td>3</td>\n",
       "      <td>2</td>\n",
       "      <td>3</td>\n",
       "      <td>2</td>\n",
       "      <td>0</td>\n",
       "      <td>2.0</td>\n",
       "      <td>17006</td>\n",
       "      <td>2.0</td>\n",
       "      <td>2</td>\n",
       "      <td>7</td>\n",
       "      <td>3095.0</td>\n",
       "      <td>NaN</td>\n",
       "      <td>test</td>\n",
       "      <td>0</td>\n",
       "      <td>0</td>\n",
       "      <td>1</td>\n",
       "      <td>0</td>\n",
       "      <td>0</td>\n",
       "      <td>1</td>\n",
       "      <td>0</td>\n",
       "      <td>0</td>\n",
       "      <td>0</td>\n",
       "      <td>0</td>\n",
       "      <td>1</td>\n",
       "    </tr>\n",
       "    <tr>\n",
       "      <th>1</th>\n",
       "      <td>318440</td>\n",
       "      <td>29</td>\n",
       "      <td>0</td>\n",
       "      <td>4</td>\n",
       "      <td>0</td>\n",
       "      <td>2</td>\n",
       "      <td>2</td>\n",
       "      <td>5</td>\n",
       "      <td>2.0</td>\n",
       "      <td>17006</td>\n",
       "      <td>2.0</td>\n",
       "      <td>4</td>\n",
       "      <td>7</td>\n",
       "      <td>4018.0</td>\n",
       "      <td>NaN</td>\n",
       "      <td>test</td>\n",
       "      <td>0</td>\n",
       "      <td>0</td>\n",
       "      <td>1</td>\n",
       "      <td>0</td>\n",
       "      <td>0</td>\n",
       "      <td>0</td>\n",
       "      <td>1</td>\n",
       "      <td>0</td>\n",
       "      <td>0</td>\n",
       "      <td>0</td>\n",
       "      <td>1</td>\n",
       "    </tr>\n",
       "    <tr>\n",
       "      <th>2</th>\n",
       "      <td>318441</td>\n",
       "      <td>26</td>\n",
       "      <td>1</td>\n",
       "      <td>2</td>\n",
       "      <td>1</td>\n",
       "      <td>3</td>\n",
       "      <td>1</td>\n",
       "      <td>3</td>\n",
       "      <td>4.0</td>\n",
       "      <td>17006</td>\n",
       "      <td>2.0</td>\n",
       "      <td>3</td>\n",
       "      <td>7</td>\n",
       "      <td>4492.0</td>\n",
       "      <td>NaN</td>\n",
       "      <td>test</td>\n",
       "      <td>0</td>\n",
       "      <td>0</td>\n",
       "      <td>1</td>\n",
       "      <td>0</td>\n",
       "      <td>0</td>\n",
       "      <td>1</td>\n",
       "      <td>0</td>\n",
       "      <td>0</td>\n",
       "      <td>0</td>\n",
       "      <td>0</td>\n",
       "      <td>1</td>\n",
       "    </tr>\n",
       "    <tr>\n",
       "      <th>3</th>\n",
       "      <td>318442</td>\n",
       "      <td>6</td>\n",
       "      <td>0</td>\n",
       "      <td>6</td>\n",
       "      <td>0</td>\n",
       "      <td>3</td>\n",
       "      <td>1</td>\n",
       "      <td>5</td>\n",
       "      <td>2.0</td>\n",
       "      <td>17006</td>\n",
       "      <td>2.0</td>\n",
       "      <td>3</td>\n",
       "      <td>7</td>\n",
       "      <td>4173.0</td>\n",
       "      <td>NaN</td>\n",
       "      <td>test</td>\n",
       "      <td>0</td>\n",
       "      <td>0</td>\n",
       "      <td>1</td>\n",
       "      <td>0</td>\n",
       "      <td>0</td>\n",
       "      <td>0</td>\n",
       "      <td>1</td>\n",
       "      <td>0</td>\n",
       "      <td>0</td>\n",
       "      <td>0</td>\n",
       "      <td>1</td>\n",
       "    </tr>\n",
       "    <tr>\n",
       "      <th>4</th>\n",
       "      <td>318443</td>\n",
       "      <td>28</td>\n",
       "      <td>1</td>\n",
       "      <td>11</td>\n",
       "      <td>0</td>\n",
       "      <td>2</td>\n",
       "      <td>0</td>\n",
       "      <td>5</td>\n",
       "      <td>2.0</td>\n",
       "      <td>17006</td>\n",
       "      <td>2.0</td>\n",
       "      <td>4</td>\n",
       "      <td>7</td>\n",
       "      <td>4161.0</td>\n",
       "      <td>NaN</td>\n",
       "      <td>test</td>\n",
       "      <td>0</td>\n",
       "      <td>0</td>\n",
       "      <td>1</td>\n",
       "      <td>0</td>\n",
       "      <td>0</td>\n",
       "      <td>0</td>\n",
       "      <td>1</td>\n",
       "      <td>0</td>\n",
       "      <td>0</td>\n",
       "      <td>0</td>\n",
       "      <td>1</td>\n",
       "    </tr>\n",
       "  </tbody>\n",
       "</table>\n",
       "</div>"
      ],
      "text/plain": [
       "   case_id  Hospital_code  Hospital_type_code  City_Code_Hospital  \\\n",
       "0   318439             21                   2                   3   \n",
       "1   318440             29                   0                   4   \n",
       "2   318441             26                   1                   2   \n",
       "3   318442              6                   0                   6   \n",
       "4   318443             28                   1                  11   \n",
       "\n",
       "   Hospital_region_code  Available Extra Rooms in Hospital  Ward_Type  \\\n",
       "0                     2                                  3          2   \n",
       "1                     0                                  2          2   \n",
       "2                     1                                  3          1   \n",
       "3                     0                                  3          1   \n",
       "4                     0                                  2          0   \n",
       "\n",
       "   Ward_Facility_Code Bed Grade  patientid  City_Code_Patient  \\\n",
       "0                   0       2.0      17006                2.0   \n",
       "1                   5       2.0      17006                2.0   \n",
       "2                   3       4.0      17006                2.0   \n",
       "3                   5       2.0      17006                2.0   \n",
       "4                   5       2.0      17006                2.0   \n",
       "\n",
       "   Visitors with Patient  Age  Admission_Deposit  Stay source  \\\n",
       "0                      2    7             3095.0   NaN   test   \n",
       "1                      4    7             4018.0   NaN   test   \n",
       "2                      3    7             4492.0   NaN   test   \n",
       "3                      3    7             4173.0   NaN   test   \n",
       "4                      4    7             4161.0   NaN   test   \n",
       "\n",
       "   TB & Chest disease  anesthesia  gynecology  radiotherapy  surgery  \\\n",
       "0                   0           0           1             0        0   \n",
       "1                   0           0           1             0        0   \n",
       "2                   0           0           1             0        0   \n",
       "3                   0           0           1             0        0   \n",
       "4                   0           0           1             0        0   \n",
       "\n",
       "   Emergency  Trauma  Urgent  Extreme  Minor  Moderate  \n",
       "0          1       0       0        0      0         1  \n",
       "1          0       1       0        0      0         1  \n",
       "2          1       0       0        0      0         1  \n",
       "3          0       1       0        0      0         1  \n",
       "4          0       1       0        0      0         1  "
      ]
     },
     "execution_count": 38,
     "metadata": {},
     "output_type": "execute_result"
    }
   ],
   "source": [
    "Test.head()"
   ]
  },
  {
   "cell_type": "code",
   "execution_count": 39,
   "metadata": {},
   "outputs": [
    {
     "name": "stdout",
     "output_type": "stream",
     "text": [
      "<class 'pandas.core.frame.DataFrame'>\n",
      "Int64Index: 318438 entries, 0 to 318437\n",
      "Data columns (total 27 columns):\n",
      " #   Column                             Non-Null Count   Dtype  \n",
      "---  ------                             --------------   -----  \n",
      " 0   case_id                            318438 non-null  int64  \n",
      " 1   Hospital_code                      318438 non-null  int64  \n",
      " 2   Hospital_type_code                 318438 non-null  int64  \n",
      " 3   City_Code_Hospital                 318438 non-null  int64  \n",
      " 4   Hospital_region_code               318438 non-null  int64  \n",
      " 5   Available Extra Rooms in Hospital  318438 non-null  int64  \n",
      " 6   Ward_Type                          318438 non-null  int64  \n",
      " 7   Ward_Facility_Code                 318438 non-null  int64  \n",
      " 8   Bed Grade                          318438 non-null  object \n",
      " 9   patientid                          318438 non-null  int64  \n",
      " 10  City_Code_Patient                  318438 non-null  float64\n",
      " 11  Visitors with Patient              318438 non-null  int64  \n",
      " 12  Age                                318438 non-null  int64  \n",
      " 13  Admission_Deposit                  318438 non-null  float64\n",
      " 14  Stay                               318438 non-null  float64\n",
      " 15  source                             318438 non-null  object \n",
      " 16  TB & Chest disease                 318438 non-null  uint8  \n",
      " 17  anesthesia                         318438 non-null  uint8  \n",
      " 18  gynecology                         318438 non-null  uint8  \n",
      " 19  radiotherapy                       318438 non-null  uint8  \n",
      " 20  surgery                            318438 non-null  uint8  \n",
      " 21  Emergency                          318438 non-null  uint8  \n",
      " 22  Trauma                             318438 non-null  uint8  \n",
      " 23  Urgent                             318438 non-null  uint8  \n",
      " 24  Extreme                            318438 non-null  uint8  \n",
      " 25  Minor                              318438 non-null  uint8  \n",
      " 26  Moderate                           318438 non-null  uint8  \n",
      "dtypes: float64(3), int64(11), object(2), uint8(11)\n",
      "memory usage: 44.6+ MB\n"
     ]
    }
   ],
   "source": [
    "Train.info()"
   ]
  },
  {
   "cell_type": "code",
   "execution_count": 40,
   "metadata": {},
   "outputs": [],
   "source": [
    "del Train['source']\n",
    "del Test['source']\n",
    "del Test['Stay']\n",
    "del Train['case_id']\n",
    "del Test['case_id']"
   ]
  },
  {
   "cell_type": "code",
   "execution_count": 41,
   "metadata": {},
   "outputs": [],
   "source": [
    "yTrain = Train.pop('Stay')"
   ]
  },
  {
   "cell_type": "code",
   "execution_count": 42,
   "metadata": {},
   "outputs": [],
   "source": [
    "sc = StandardScaler()\n",
    "sTrain = sc.fit_transform(Train)\n",
    "sTest = sc.fit_transform(Test)"
   ]
  },
  {
   "cell_type": "code",
   "execution_count": 47,
   "metadata": {},
   "outputs": [],
   "source": [
    "model_params = {\n",
    "    'LGBM': {\n",
    "        'model': LGBMClassifier(),\n",
    "        'params' : {\n",
    "            'n_estimators': [10, 100, 200, 500],\n",
    "            'num_leaves': [10, 50, 100, 200, 500],\n",
    "            'max_depth': [5, 10, 15, 20, 25]\n",
    "            \n",
    "        }\n",
    "    },\n",
    "    'random_forest': {\n",
    "        'model': RandomForestClassifier(),\n",
    "        'params': {\n",
    "           'n_estimators': [50, 100, 150, 500],\n",
    "            'min_samples_leaf': [1, 2, 3, 4],\n",
    "            'max_depth': [5, 10, 15, 20, 25]\n",
    "        }\n",
    "    },\n",
    "     'cat': {\n",
    "        'model': CatBoostClassifier(eval_metric='Accuracy'),\n",
    "        'params' : {\n",
    "            'n_estimators': [10, 100, 200, 500],\n",
    "            'max_depth': [5, 10, 15, 20, 25] \n",
    "        }\n",
    "    },\n",
    "       'xgb': {\n",
    "        'model': XGBClassifier(),\n",
    "        'params' : {\n",
    "            'n_estimators': [10, 100, 200, 500],\n",
    "            'max_depth': [5, 10, 15, 20, 25],\n",
    "            'min_child_weight' : [ 1, 3, 5, 7 ],\n",
    "            'gamma'            : [ 0.0, 0.1, 0.2 , 0.3, 0.4 ],\n",
    "            'colsample_bytree' : [ 0.3, 0.4, 0.5 , 0.7 ]\n",
    "        }\n",
    "    },\n",
    "}"
   ]
  },
  {
   "cell_type": "code",
   "execution_count": 48,
   "metadata": {},
   "outputs": [
    {
     "name": "stdout",
     "output_type": "stream",
     "text": [
      "Fitting 3 folds for each of 10 candidates, totalling 30 fits\n"
     ]
    },
    {
     "name": "stderr",
     "output_type": "stream",
     "text": [
      "[Parallel(n_jobs=1)]: Using backend SequentialBackend with 1 concurrent workers.\n",
      "[Parallel(n_jobs=1)]: Done  30 out of  30 | elapsed: 48.6min finished\n"
     ]
    },
    {
     "name": "stdout",
     "output_type": "stream",
     "text": [
      "Fitting 3 folds for each of 10 candidates, totalling 30 fits\n"
     ]
    },
    {
     "name": "stderr",
     "output_type": "stream",
     "text": [
      "[Parallel(n_jobs=1)]: Using backend SequentialBackend with 1 concurrent workers.\n",
      "[Parallel(n_jobs=1)]: Done  30 out of  30 | elapsed: 62.4min finished\n"
     ]
    },
    {
     "name": "stdout",
     "output_type": "stream",
     "text": [
      "Fitting 3 folds for each of 10 candidates, totalling 30 fits\n"
     ]
    },
    {
     "name": "stderr",
     "output_type": "stream",
     "text": [
      "[Parallel(n_jobs=1)]: Using backend SequentialBackend with 1 concurrent workers.\n"
     ]
    },
    {
     "name": "stdout",
     "output_type": "stream",
     "text": [
      "Learning rate set to 0.40516\n",
      "0:\tlearn: 0.4283393\ttotal: 2m 35s\tremaining: 8h 36m 21s\n",
      "1:\tlearn: 0.4425131\ttotal: 5m 9s\tremaining: 8h 29m 57s\n",
      "2:\tlearn: 0.4552315\ttotal: 7m 56s\tremaining: 8h 41m 30s\n",
      "3:\tlearn: 0.4632770\ttotal: 10m 48s\tremaining: 8h 49m 46s\n",
      "4:\tlearn: 0.4665461\ttotal: 13m 37s\tremaining: 8h 51m 24s\n",
      "5:\tlearn: 0.4706301\ttotal: 15m 56s\tremaining: 8h 35m 29s\n",
      "6:\tlearn: 0.4743090\ttotal: 18m 18s\tremaining: 8h 24m 54s\n",
      "7:\tlearn: 0.4837582\ttotal: 21m 8s\tremaining: 8h 27m 14s\n",
      "8:\tlearn: 0.4940130\ttotal: 23m 39s\tremaining: 8h 21m 57s\n",
      "9:\tlearn: 0.5022940\ttotal: 26m 18s\tremaining: 8h 19m 47s\n",
      "10:\tlearn: 0.5065099\ttotal: 28m 57s\tremaining: 8h 17m 28s\n"
     ]
    },
    {
     "ename": "KeyboardInterrupt",
     "evalue": "",
     "output_type": "error",
     "traceback": [
      "\u001b[1;31m---------------------------------------------------------------------------\u001b[0m",
      "\u001b[1;31mKeyboardInterrupt\u001b[0m                         Traceback (most recent call last)",
      "\u001b[1;32m<ipython-input-48-48b6c541421e>\u001b[0m in \u001b[0;36m<module>\u001b[1;34m\u001b[0m\n\u001b[0;32m      3\u001b[0m \u001b[1;32mfor\u001b[0m \u001b[0mmodel_name\u001b[0m\u001b[1;33m,\u001b[0m \u001b[0mmp\u001b[0m \u001b[1;32min\u001b[0m \u001b[0mmodel_params\u001b[0m\u001b[1;33m.\u001b[0m\u001b[0mitems\u001b[0m\u001b[1;33m(\u001b[0m\u001b[1;33m)\u001b[0m\u001b[1;33m:\u001b[0m\u001b[1;33m\u001b[0m\u001b[1;33m\u001b[0m\u001b[0m\n\u001b[0;32m      4\u001b[0m     \u001b[0mclf\u001b[0m \u001b[1;33m=\u001b[0m \u001b[0mRandomizedSearchCV\u001b[0m\u001b[1;33m(\u001b[0m\u001b[0mmp\u001b[0m\u001b[1;33m[\u001b[0m\u001b[1;34m'model'\u001b[0m\u001b[1;33m]\u001b[0m\u001b[1;33m,\u001b[0m \u001b[0mmp\u001b[0m\u001b[1;33m[\u001b[0m\u001b[1;34m'params'\u001b[0m\u001b[1;33m]\u001b[0m\u001b[1;33m,\u001b[0m \u001b[0mcv\u001b[0m\u001b[1;33m=\u001b[0m\u001b[1;36m3\u001b[0m\u001b[1;33m,\u001b[0m \u001b[0mreturn_train_score\u001b[0m\u001b[1;33m=\u001b[0m\u001b[1;32mFalse\u001b[0m\u001b[1;33m,\u001b[0m \u001b[0mverbose\u001b[0m \u001b[1;33m=\u001b[0m \u001b[1;36m1\u001b[0m\u001b[1;33m)\u001b[0m\u001b[1;33m\u001b[0m\u001b[1;33m\u001b[0m\u001b[0m\n\u001b[1;32m----> 5\u001b[1;33m     \u001b[0mclf\u001b[0m\u001b[1;33m.\u001b[0m\u001b[0mfit\u001b[0m\u001b[1;33m(\u001b[0m\u001b[0msTrain\u001b[0m\u001b[1;33m,\u001b[0m \u001b[0myTrain\u001b[0m\u001b[1;33m)\u001b[0m\u001b[1;33m\u001b[0m\u001b[1;33m\u001b[0m\u001b[0m\n\u001b[0m\u001b[0;32m      6\u001b[0m     scores.append({\n\u001b[0;32m      7\u001b[0m         \u001b[1;34m'model'\u001b[0m\u001b[1;33m:\u001b[0m \u001b[0mmodel_name\u001b[0m\u001b[1;33m,\u001b[0m\u001b[1;33m\u001b[0m\u001b[1;33m\u001b[0m\u001b[0m\n",
      "\u001b[1;32mC:\\ProgramData\\Anaconda3\\lib\\site-packages\\sklearn\\utils\\validation.py\u001b[0m in \u001b[0;36minner_f\u001b[1;34m(*args, **kwargs)\u001b[0m\n\u001b[0;32m     71\u001b[0m                           FutureWarning)\n\u001b[0;32m     72\u001b[0m         \u001b[0mkwargs\u001b[0m\u001b[1;33m.\u001b[0m\u001b[0mupdate\u001b[0m\u001b[1;33m(\u001b[0m\u001b[1;33m{\u001b[0m\u001b[0mk\u001b[0m\u001b[1;33m:\u001b[0m \u001b[0marg\u001b[0m \u001b[1;32mfor\u001b[0m \u001b[0mk\u001b[0m\u001b[1;33m,\u001b[0m \u001b[0marg\u001b[0m \u001b[1;32min\u001b[0m \u001b[0mzip\u001b[0m\u001b[1;33m(\u001b[0m\u001b[0msig\u001b[0m\u001b[1;33m.\u001b[0m\u001b[0mparameters\u001b[0m\u001b[1;33m,\u001b[0m \u001b[0margs\u001b[0m\u001b[1;33m)\u001b[0m\u001b[1;33m}\u001b[0m\u001b[1;33m)\u001b[0m\u001b[1;33m\u001b[0m\u001b[1;33m\u001b[0m\u001b[0m\n\u001b[1;32m---> 73\u001b[1;33m         \u001b[1;32mreturn\u001b[0m \u001b[0mf\u001b[0m\u001b[1;33m(\u001b[0m\u001b[1;33m**\u001b[0m\u001b[0mkwargs\u001b[0m\u001b[1;33m)\u001b[0m\u001b[1;33m\u001b[0m\u001b[1;33m\u001b[0m\u001b[0m\n\u001b[0m\u001b[0;32m     74\u001b[0m     \u001b[1;32mreturn\u001b[0m \u001b[0minner_f\u001b[0m\u001b[1;33m\u001b[0m\u001b[1;33m\u001b[0m\u001b[0m\n\u001b[0;32m     75\u001b[0m \u001b[1;33m\u001b[0m\u001b[0m\n",
      "\u001b[1;32mC:\\ProgramData\\Anaconda3\\lib\\site-packages\\sklearn\\model_selection\\_search.py\u001b[0m in \u001b[0;36mfit\u001b[1;34m(self, X, y, groups, **fit_params)\u001b[0m\n\u001b[0;32m    734\u001b[0m                 \u001b[1;32mreturn\u001b[0m \u001b[0mresults\u001b[0m\u001b[1;33m\u001b[0m\u001b[1;33m\u001b[0m\u001b[0m\n\u001b[0;32m    735\u001b[0m \u001b[1;33m\u001b[0m\u001b[0m\n\u001b[1;32m--> 736\u001b[1;33m             \u001b[0mself\u001b[0m\u001b[1;33m.\u001b[0m\u001b[0m_run_search\u001b[0m\u001b[1;33m(\u001b[0m\u001b[0mevaluate_candidates\u001b[0m\u001b[1;33m)\u001b[0m\u001b[1;33m\u001b[0m\u001b[1;33m\u001b[0m\u001b[0m\n\u001b[0m\u001b[0;32m    737\u001b[0m \u001b[1;33m\u001b[0m\u001b[0m\n\u001b[0;32m    738\u001b[0m         \u001b[1;31m# For multi-metric evaluation, store the best_index_, best_params_ and\u001b[0m\u001b[1;33m\u001b[0m\u001b[1;33m\u001b[0m\u001b[1;33m\u001b[0m\u001b[0m\n",
      "\u001b[1;32mC:\\ProgramData\\Anaconda3\\lib\\site-packages\\sklearn\\model_selection\\_search.py\u001b[0m in \u001b[0;36m_run_search\u001b[1;34m(self, evaluate_candidates)\u001b[0m\n\u001b[0;32m   1527\u001b[0m     \u001b[1;32mdef\u001b[0m \u001b[0m_run_search\u001b[0m\u001b[1;33m(\u001b[0m\u001b[0mself\u001b[0m\u001b[1;33m,\u001b[0m \u001b[0mevaluate_candidates\u001b[0m\u001b[1;33m)\u001b[0m\u001b[1;33m:\u001b[0m\u001b[1;33m\u001b[0m\u001b[1;33m\u001b[0m\u001b[0m\n\u001b[0;32m   1528\u001b[0m         \u001b[1;34m\"\"\"Search n_iter candidates from param_distributions\"\"\"\u001b[0m\u001b[1;33m\u001b[0m\u001b[1;33m\u001b[0m\u001b[0m\n\u001b[1;32m-> 1529\u001b[1;33m         evaluate_candidates(ParameterSampler(\n\u001b[0m\u001b[0;32m   1530\u001b[0m             \u001b[0mself\u001b[0m\u001b[1;33m.\u001b[0m\u001b[0mparam_distributions\u001b[0m\u001b[1;33m,\u001b[0m \u001b[0mself\u001b[0m\u001b[1;33m.\u001b[0m\u001b[0mn_iter\u001b[0m\u001b[1;33m,\u001b[0m\u001b[1;33m\u001b[0m\u001b[1;33m\u001b[0m\u001b[0m\n\u001b[0;32m   1531\u001b[0m             random_state=self.random_state))\n",
      "\u001b[1;32mC:\\ProgramData\\Anaconda3\\lib\\site-packages\\sklearn\\model_selection\\_search.py\u001b[0m in \u001b[0;36mevaluate_candidates\u001b[1;34m(candidate_params)\u001b[0m\n\u001b[0;32m    706\u001b[0m                               n_splits, n_candidates, n_candidates * n_splits))\n\u001b[0;32m    707\u001b[0m \u001b[1;33m\u001b[0m\u001b[0m\n\u001b[1;32m--> 708\u001b[1;33m                 out = parallel(delayed(_fit_and_score)(clone(base_estimator),\n\u001b[0m\u001b[0;32m    709\u001b[0m                                                        \u001b[0mX\u001b[0m\u001b[1;33m,\u001b[0m \u001b[0my\u001b[0m\u001b[1;33m,\u001b[0m\u001b[1;33m\u001b[0m\u001b[1;33m\u001b[0m\u001b[0m\n\u001b[0;32m    710\u001b[0m                                                        \u001b[0mtrain\u001b[0m\u001b[1;33m=\u001b[0m\u001b[0mtrain\u001b[0m\u001b[1;33m,\u001b[0m \u001b[0mtest\u001b[0m\u001b[1;33m=\u001b[0m\u001b[0mtest\u001b[0m\u001b[1;33m,\u001b[0m\u001b[1;33m\u001b[0m\u001b[1;33m\u001b[0m\u001b[0m\n",
      "\u001b[1;32mC:\\ProgramData\\Anaconda3\\lib\\site-packages\\joblib\\parallel.py\u001b[0m in \u001b[0;36m__call__\u001b[1;34m(self, iterable)\u001b[0m\n\u001b[0;32m   1030\u001b[0m                 \u001b[0mself\u001b[0m\u001b[1;33m.\u001b[0m\u001b[0m_iterating\u001b[0m \u001b[1;33m=\u001b[0m \u001b[0mself\u001b[0m\u001b[1;33m.\u001b[0m\u001b[0m_original_iterator\u001b[0m \u001b[1;32mis\u001b[0m \u001b[1;32mnot\u001b[0m \u001b[1;32mNone\u001b[0m\u001b[1;33m\u001b[0m\u001b[1;33m\u001b[0m\u001b[0m\n\u001b[0;32m   1031\u001b[0m \u001b[1;33m\u001b[0m\u001b[0m\n\u001b[1;32m-> 1032\u001b[1;33m             \u001b[1;32mwhile\u001b[0m \u001b[0mself\u001b[0m\u001b[1;33m.\u001b[0m\u001b[0mdispatch_one_batch\u001b[0m\u001b[1;33m(\u001b[0m\u001b[0miterator\u001b[0m\u001b[1;33m)\u001b[0m\u001b[1;33m:\u001b[0m\u001b[1;33m\u001b[0m\u001b[1;33m\u001b[0m\u001b[0m\n\u001b[0m\u001b[0;32m   1033\u001b[0m                 \u001b[1;32mpass\u001b[0m\u001b[1;33m\u001b[0m\u001b[1;33m\u001b[0m\u001b[0m\n\u001b[0;32m   1034\u001b[0m \u001b[1;33m\u001b[0m\u001b[0m\n",
      "\u001b[1;32mC:\\ProgramData\\Anaconda3\\lib\\site-packages\\joblib\\parallel.py\u001b[0m in \u001b[0;36mdispatch_one_batch\u001b[1;34m(self, iterator)\u001b[0m\n\u001b[0;32m    845\u001b[0m                 \u001b[1;32mreturn\u001b[0m \u001b[1;32mFalse\u001b[0m\u001b[1;33m\u001b[0m\u001b[1;33m\u001b[0m\u001b[0m\n\u001b[0;32m    846\u001b[0m             \u001b[1;32melse\u001b[0m\u001b[1;33m:\u001b[0m\u001b[1;33m\u001b[0m\u001b[1;33m\u001b[0m\u001b[0m\n\u001b[1;32m--> 847\u001b[1;33m                 \u001b[0mself\u001b[0m\u001b[1;33m.\u001b[0m\u001b[0m_dispatch\u001b[0m\u001b[1;33m(\u001b[0m\u001b[0mtasks\u001b[0m\u001b[1;33m)\u001b[0m\u001b[1;33m\u001b[0m\u001b[1;33m\u001b[0m\u001b[0m\n\u001b[0m\u001b[0;32m    848\u001b[0m                 \u001b[1;32mreturn\u001b[0m \u001b[1;32mTrue\u001b[0m\u001b[1;33m\u001b[0m\u001b[1;33m\u001b[0m\u001b[0m\n\u001b[0;32m    849\u001b[0m \u001b[1;33m\u001b[0m\u001b[0m\n",
      "\u001b[1;32mC:\\ProgramData\\Anaconda3\\lib\\site-packages\\joblib\\parallel.py\u001b[0m in \u001b[0;36m_dispatch\u001b[1;34m(self, batch)\u001b[0m\n\u001b[0;32m    763\u001b[0m         \u001b[1;32mwith\u001b[0m \u001b[0mself\u001b[0m\u001b[1;33m.\u001b[0m\u001b[0m_lock\u001b[0m\u001b[1;33m:\u001b[0m\u001b[1;33m\u001b[0m\u001b[1;33m\u001b[0m\u001b[0m\n\u001b[0;32m    764\u001b[0m             \u001b[0mjob_idx\u001b[0m \u001b[1;33m=\u001b[0m \u001b[0mlen\u001b[0m\u001b[1;33m(\u001b[0m\u001b[0mself\u001b[0m\u001b[1;33m.\u001b[0m\u001b[0m_jobs\u001b[0m\u001b[1;33m)\u001b[0m\u001b[1;33m\u001b[0m\u001b[1;33m\u001b[0m\u001b[0m\n\u001b[1;32m--> 765\u001b[1;33m             \u001b[0mjob\u001b[0m \u001b[1;33m=\u001b[0m \u001b[0mself\u001b[0m\u001b[1;33m.\u001b[0m\u001b[0m_backend\u001b[0m\u001b[1;33m.\u001b[0m\u001b[0mapply_async\u001b[0m\u001b[1;33m(\u001b[0m\u001b[0mbatch\u001b[0m\u001b[1;33m,\u001b[0m \u001b[0mcallback\u001b[0m\u001b[1;33m=\u001b[0m\u001b[0mcb\u001b[0m\u001b[1;33m)\u001b[0m\u001b[1;33m\u001b[0m\u001b[1;33m\u001b[0m\u001b[0m\n\u001b[0m\u001b[0;32m    766\u001b[0m             \u001b[1;31m# A job can complete so quickly than its callback is\u001b[0m\u001b[1;33m\u001b[0m\u001b[1;33m\u001b[0m\u001b[1;33m\u001b[0m\u001b[0m\n\u001b[0;32m    767\u001b[0m             \u001b[1;31m# called before we get here, causing self._jobs to\u001b[0m\u001b[1;33m\u001b[0m\u001b[1;33m\u001b[0m\u001b[1;33m\u001b[0m\u001b[0m\n",
      "\u001b[1;32mC:\\ProgramData\\Anaconda3\\lib\\site-packages\\joblib\\_parallel_backends.py\u001b[0m in \u001b[0;36mapply_async\u001b[1;34m(self, func, callback)\u001b[0m\n\u001b[0;32m    206\u001b[0m     \u001b[1;32mdef\u001b[0m \u001b[0mapply_async\u001b[0m\u001b[1;33m(\u001b[0m\u001b[0mself\u001b[0m\u001b[1;33m,\u001b[0m \u001b[0mfunc\u001b[0m\u001b[1;33m,\u001b[0m \u001b[0mcallback\u001b[0m\u001b[1;33m=\u001b[0m\u001b[1;32mNone\u001b[0m\u001b[1;33m)\u001b[0m\u001b[1;33m:\u001b[0m\u001b[1;33m\u001b[0m\u001b[1;33m\u001b[0m\u001b[0m\n\u001b[0;32m    207\u001b[0m         \u001b[1;34m\"\"\"Schedule a func to be run\"\"\"\u001b[0m\u001b[1;33m\u001b[0m\u001b[1;33m\u001b[0m\u001b[0m\n\u001b[1;32m--> 208\u001b[1;33m         \u001b[0mresult\u001b[0m \u001b[1;33m=\u001b[0m \u001b[0mImmediateResult\u001b[0m\u001b[1;33m(\u001b[0m\u001b[0mfunc\u001b[0m\u001b[1;33m)\u001b[0m\u001b[1;33m\u001b[0m\u001b[1;33m\u001b[0m\u001b[0m\n\u001b[0m\u001b[0;32m    209\u001b[0m         \u001b[1;32mif\u001b[0m \u001b[0mcallback\u001b[0m\u001b[1;33m:\u001b[0m\u001b[1;33m\u001b[0m\u001b[1;33m\u001b[0m\u001b[0m\n\u001b[0;32m    210\u001b[0m             \u001b[0mcallback\u001b[0m\u001b[1;33m(\u001b[0m\u001b[0mresult\u001b[0m\u001b[1;33m)\u001b[0m\u001b[1;33m\u001b[0m\u001b[1;33m\u001b[0m\u001b[0m\n",
      "\u001b[1;32mC:\\ProgramData\\Anaconda3\\lib\\site-packages\\joblib\\_parallel_backends.py\u001b[0m in \u001b[0;36m__init__\u001b[1;34m(self, batch)\u001b[0m\n\u001b[0;32m    570\u001b[0m         \u001b[1;31m# Don't delay the application, to avoid keeping the input\u001b[0m\u001b[1;33m\u001b[0m\u001b[1;33m\u001b[0m\u001b[1;33m\u001b[0m\u001b[0m\n\u001b[0;32m    571\u001b[0m         \u001b[1;31m# arguments in memory\u001b[0m\u001b[1;33m\u001b[0m\u001b[1;33m\u001b[0m\u001b[1;33m\u001b[0m\u001b[0m\n\u001b[1;32m--> 572\u001b[1;33m         \u001b[0mself\u001b[0m\u001b[1;33m.\u001b[0m\u001b[0mresults\u001b[0m \u001b[1;33m=\u001b[0m \u001b[0mbatch\u001b[0m\u001b[1;33m(\u001b[0m\u001b[1;33m)\u001b[0m\u001b[1;33m\u001b[0m\u001b[1;33m\u001b[0m\u001b[0m\n\u001b[0m\u001b[0;32m    573\u001b[0m \u001b[1;33m\u001b[0m\u001b[0m\n\u001b[0;32m    574\u001b[0m     \u001b[1;32mdef\u001b[0m \u001b[0mget\u001b[0m\u001b[1;33m(\u001b[0m\u001b[0mself\u001b[0m\u001b[1;33m)\u001b[0m\u001b[1;33m:\u001b[0m\u001b[1;33m\u001b[0m\u001b[1;33m\u001b[0m\u001b[0m\n",
      "\u001b[1;32mC:\\ProgramData\\Anaconda3\\lib\\site-packages\\joblib\\parallel.py\u001b[0m in \u001b[0;36m__call__\u001b[1;34m(self)\u001b[0m\n\u001b[0;32m    250\u001b[0m         \u001b[1;31m# change the default number of processes to -1\u001b[0m\u001b[1;33m\u001b[0m\u001b[1;33m\u001b[0m\u001b[1;33m\u001b[0m\u001b[0m\n\u001b[0;32m    251\u001b[0m         \u001b[1;32mwith\u001b[0m \u001b[0mparallel_backend\u001b[0m\u001b[1;33m(\u001b[0m\u001b[0mself\u001b[0m\u001b[1;33m.\u001b[0m\u001b[0m_backend\u001b[0m\u001b[1;33m,\u001b[0m \u001b[0mn_jobs\u001b[0m\u001b[1;33m=\u001b[0m\u001b[0mself\u001b[0m\u001b[1;33m.\u001b[0m\u001b[0m_n_jobs\u001b[0m\u001b[1;33m)\u001b[0m\u001b[1;33m:\u001b[0m\u001b[1;33m\u001b[0m\u001b[1;33m\u001b[0m\u001b[0m\n\u001b[1;32m--> 252\u001b[1;33m             return [func(*args, **kwargs)\n\u001b[0m\u001b[0;32m    253\u001b[0m                     for func, args, kwargs in self.items]\n\u001b[0;32m    254\u001b[0m \u001b[1;33m\u001b[0m\u001b[0m\n",
      "\u001b[1;32mC:\\ProgramData\\Anaconda3\\lib\\site-packages\\joblib\\parallel.py\u001b[0m in \u001b[0;36m<listcomp>\u001b[1;34m(.0)\u001b[0m\n\u001b[0;32m    250\u001b[0m         \u001b[1;31m# change the default number of processes to -1\u001b[0m\u001b[1;33m\u001b[0m\u001b[1;33m\u001b[0m\u001b[1;33m\u001b[0m\u001b[0m\n\u001b[0;32m    251\u001b[0m         \u001b[1;32mwith\u001b[0m \u001b[0mparallel_backend\u001b[0m\u001b[1;33m(\u001b[0m\u001b[0mself\u001b[0m\u001b[1;33m.\u001b[0m\u001b[0m_backend\u001b[0m\u001b[1;33m,\u001b[0m \u001b[0mn_jobs\u001b[0m\u001b[1;33m=\u001b[0m\u001b[0mself\u001b[0m\u001b[1;33m.\u001b[0m\u001b[0m_n_jobs\u001b[0m\u001b[1;33m)\u001b[0m\u001b[1;33m:\u001b[0m\u001b[1;33m\u001b[0m\u001b[1;33m\u001b[0m\u001b[0m\n\u001b[1;32m--> 252\u001b[1;33m             return [func(*args, **kwargs)\n\u001b[0m\u001b[0;32m    253\u001b[0m                     for func, args, kwargs in self.items]\n\u001b[0;32m    254\u001b[0m \u001b[1;33m\u001b[0m\u001b[0m\n",
      "\u001b[1;32mC:\\ProgramData\\Anaconda3\\lib\\site-packages\\sklearn\\model_selection\\_validation.py\u001b[0m in \u001b[0;36m_fit_and_score\u001b[1;34m(estimator, X, y, scorer, train, test, verbose, parameters, fit_params, return_train_score, return_parameters, return_n_test_samples, return_times, return_estimator, error_score)\u001b[0m\n\u001b[0;32m    529\u001b[0m             \u001b[0mestimator\u001b[0m\u001b[1;33m.\u001b[0m\u001b[0mfit\u001b[0m\u001b[1;33m(\u001b[0m\u001b[0mX_train\u001b[0m\u001b[1;33m,\u001b[0m \u001b[1;33m**\u001b[0m\u001b[0mfit_params\u001b[0m\u001b[1;33m)\u001b[0m\u001b[1;33m\u001b[0m\u001b[1;33m\u001b[0m\u001b[0m\n\u001b[0;32m    530\u001b[0m         \u001b[1;32melse\u001b[0m\u001b[1;33m:\u001b[0m\u001b[1;33m\u001b[0m\u001b[1;33m\u001b[0m\u001b[0m\n\u001b[1;32m--> 531\u001b[1;33m             \u001b[0mestimator\u001b[0m\u001b[1;33m.\u001b[0m\u001b[0mfit\u001b[0m\u001b[1;33m(\u001b[0m\u001b[0mX_train\u001b[0m\u001b[1;33m,\u001b[0m \u001b[0my_train\u001b[0m\u001b[1;33m,\u001b[0m \u001b[1;33m**\u001b[0m\u001b[0mfit_params\u001b[0m\u001b[1;33m)\u001b[0m\u001b[1;33m\u001b[0m\u001b[1;33m\u001b[0m\u001b[0m\n\u001b[0m\u001b[0;32m    532\u001b[0m \u001b[1;33m\u001b[0m\u001b[0m\n\u001b[0;32m    533\u001b[0m     \u001b[1;32mexcept\u001b[0m \u001b[0mException\u001b[0m \u001b[1;32mas\u001b[0m \u001b[0me\u001b[0m\u001b[1;33m:\u001b[0m\u001b[1;33m\u001b[0m\u001b[1;33m\u001b[0m\u001b[0m\n",
      "\u001b[1;32mC:\\ProgramData\\Anaconda3\\lib\\site-packages\\catboost\\core.py\u001b[0m in \u001b[0;36mfit\u001b[1;34m(self, X, y, cat_features, text_features, embedding_features, sample_weight, baseline, use_best_model, eval_set, verbose, logging_level, plot, column_description, verbose_eval, metric_period, silent, early_stopping_rounds, save_snapshot, snapshot_file, snapshot_interval, init_model)\u001b[0m\n\u001b[0;32m   4537\u001b[0m             \u001b[0mself\u001b[0m\u001b[1;33m.\u001b[0m\u001b[0m_check_is_classification_objective\u001b[0m\u001b[1;33m(\u001b[0m\u001b[0mparams\u001b[0m\u001b[1;33m[\u001b[0m\u001b[1;34m'loss_function'\u001b[0m\u001b[1;33m]\u001b[0m\u001b[1;33m)\u001b[0m\u001b[1;33m\u001b[0m\u001b[1;33m\u001b[0m\u001b[0m\n\u001b[0;32m   4538\u001b[0m \u001b[1;33m\u001b[0m\u001b[0m\n\u001b[1;32m-> 4539\u001b[1;33m         self._fit(X, y, cat_features, text_features, embedding_features, None, sample_weight, None, None, None, None, baseline, use_best_model,\n\u001b[0m\u001b[0;32m   4540\u001b[0m                   \u001b[0meval_set\u001b[0m\u001b[1;33m,\u001b[0m \u001b[0mverbose\u001b[0m\u001b[1;33m,\u001b[0m \u001b[0mlogging_level\u001b[0m\u001b[1;33m,\u001b[0m \u001b[0mplot\u001b[0m\u001b[1;33m,\u001b[0m \u001b[0mcolumn_description\u001b[0m\u001b[1;33m,\u001b[0m \u001b[0mverbose_eval\u001b[0m\u001b[1;33m,\u001b[0m \u001b[0mmetric_period\u001b[0m\u001b[1;33m,\u001b[0m\u001b[1;33m\u001b[0m\u001b[1;33m\u001b[0m\u001b[0m\n\u001b[0;32m   4541\u001b[0m                   silent, early_stopping_rounds, save_snapshot, snapshot_file, snapshot_interval, init_model)\n",
      "\u001b[1;32mC:\\ProgramData\\Anaconda3\\lib\\site-packages\\catboost\\core.py\u001b[0m in \u001b[0;36m_fit\u001b[1;34m(self, X, y, cat_features, text_features, embedding_features, pairs, sample_weight, group_id, group_weight, subgroup_id, pairs_weight, baseline, use_best_model, eval_set, verbose, logging_level, plot, column_description, verbose_eval, metric_period, silent, early_stopping_rounds, save_snapshot, snapshot_file, snapshot_interval, init_model)\u001b[0m\n\u001b[0;32m   1916\u001b[0m \u001b[1;33m\u001b[0m\u001b[0m\n\u001b[0;32m   1917\u001b[0m         \u001b[1;32mwith\u001b[0m \u001b[0mlog_fixup\u001b[0m\u001b[1;33m(\u001b[0m\u001b[1;33m)\u001b[0m\u001b[1;33m,\u001b[0m \u001b[0mplot_wrapper\u001b[0m\u001b[1;33m(\u001b[0m\u001b[0mplot\u001b[0m\u001b[1;33m,\u001b[0m \u001b[1;33m[\u001b[0m\u001b[0m_get_train_dir\u001b[0m\u001b[1;33m(\u001b[0m\u001b[0mself\u001b[0m\u001b[1;33m.\u001b[0m\u001b[0mget_params\u001b[0m\u001b[1;33m(\u001b[0m\u001b[1;33m)\u001b[0m\u001b[1;33m)\u001b[0m\u001b[1;33m]\u001b[0m\u001b[1;33m)\u001b[0m\u001b[1;33m:\u001b[0m\u001b[1;33m\u001b[0m\u001b[1;33m\u001b[0m\u001b[0m\n\u001b[1;32m-> 1918\u001b[1;33m             self._train(\n\u001b[0m\u001b[0;32m   1919\u001b[0m                 \u001b[0mtrain_pool\u001b[0m\u001b[1;33m,\u001b[0m\u001b[1;33m\u001b[0m\u001b[1;33m\u001b[0m\u001b[0m\n\u001b[0;32m   1920\u001b[0m                 \u001b[0mtrain_params\u001b[0m\u001b[1;33m[\u001b[0m\u001b[1;34m\"eval_sets\"\u001b[0m\u001b[1;33m]\u001b[0m\u001b[1;33m,\u001b[0m\u001b[1;33m\u001b[0m\u001b[1;33m\u001b[0m\u001b[0m\n",
      "\u001b[1;32mC:\\ProgramData\\Anaconda3\\lib\\site-packages\\catboost\\core.py\u001b[0m in \u001b[0;36m_train\u001b[1;34m(self, train_pool, test_pool, params, allow_clear_pool, init_model)\u001b[0m\n\u001b[0;32m   1364\u001b[0m \u001b[1;33m\u001b[0m\u001b[0m\n\u001b[0;32m   1365\u001b[0m     \u001b[1;32mdef\u001b[0m \u001b[0m_train\u001b[0m\u001b[1;33m(\u001b[0m\u001b[0mself\u001b[0m\u001b[1;33m,\u001b[0m \u001b[0mtrain_pool\u001b[0m\u001b[1;33m,\u001b[0m \u001b[0mtest_pool\u001b[0m\u001b[1;33m,\u001b[0m \u001b[0mparams\u001b[0m\u001b[1;33m,\u001b[0m \u001b[0mallow_clear_pool\u001b[0m\u001b[1;33m,\u001b[0m \u001b[0minit_model\u001b[0m\u001b[1;33m)\u001b[0m\u001b[1;33m:\u001b[0m\u001b[1;33m\u001b[0m\u001b[1;33m\u001b[0m\u001b[0m\n\u001b[1;32m-> 1366\u001b[1;33m         \u001b[0mself\u001b[0m\u001b[1;33m.\u001b[0m\u001b[0m_object\u001b[0m\u001b[1;33m.\u001b[0m\u001b[0m_train\u001b[0m\u001b[1;33m(\u001b[0m\u001b[0mtrain_pool\u001b[0m\u001b[1;33m,\u001b[0m \u001b[0mtest_pool\u001b[0m\u001b[1;33m,\u001b[0m \u001b[0mparams\u001b[0m\u001b[1;33m,\u001b[0m \u001b[0mallow_clear_pool\u001b[0m\u001b[1;33m,\u001b[0m \u001b[0minit_model\u001b[0m\u001b[1;33m.\u001b[0m\u001b[0m_object\u001b[0m \u001b[1;32mif\u001b[0m \u001b[0minit_model\u001b[0m \u001b[1;32melse\u001b[0m \u001b[1;32mNone\u001b[0m\u001b[1;33m)\u001b[0m\u001b[1;33m\u001b[0m\u001b[1;33m\u001b[0m\u001b[0m\n\u001b[0m\u001b[0;32m   1367\u001b[0m         \u001b[0mself\u001b[0m\u001b[1;33m.\u001b[0m\u001b[0m_set_trained_model_attributes\u001b[0m\u001b[1;33m(\u001b[0m\u001b[1;33m)\u001b[0m\u001b[1;33m\u001b[0m\u001b[1;33m\u001b[0m\u001b[0m\n\u001b[0;32m   1368\u001b[0m \u001b[1;33m\u001b[0m\u001b[0m\n",
      "\u001b[1;32m_catboost.pyx\u001b[0m in \u001b[0;36m_catboost._CatBoost._train\u001b[1;34m()\u001b[0m\n",
      "\u001b[1;32m_catboost.pyx\u001b[0m in \u001b[0;36m_catboost._CatBoost._train\u001b[1;34m()\u001b[0m\n",
      "\u001b[1;31mKeyboardInterrupt\u001b[0m: "
     ]
    }
   ],
   "source": [
    "scores = []\n",
    "\n",
    "for model_name, mp in model_params.items():\n",
    "    clf = RandomizedSearchCV(mp['model'], mp['params'], cv=3, return_train_score=False, verbose = 1)\n",
    "    clf.fit(sTrain, yTrain)\n",
    "    scores.append({\n",
    "        'model': model_name,\n",
    "        'best_score': clf.best_score_,\n",
    "        'best_params': clf.best_params_\n",
    "    })"
   ]
  },
  {
   "cell_type": "code",
   "execution_count": 46,
   "metadata": {},
   "outputs": [
    {
     "data": {
      "text/plain": [
       "[{'model': 'LGBM',\n",
       "  'best_score': 0.4196013038644885,\n",
       "  'best_params': {'num_leaves': 100, 'n_estimators': 200, 'max_depth': 5}}]"
      ]
     },
     "execution_count": 46,
     "metadata": {},
     "output_type": "execute_result"
    }
   ],
   "source": [
    "scores "
   ]
  },
  {
   "cell_type": "code",
   "execution_count": null,
   "metadata": {},
   "outputs": [],
   "source": []
  },
  {
   "cell_type": "code",
   "execution_count": null,
   "metadata": {},
   "outputs": [],
   "source": []
  },
  {
   "cell_type": "code",
   "execution_count": 34,
   "metadata": {},
   "outputs": [],
   "source": [
    "xgb = XGBClassifier(max_depth=6, n_estimators=600)"
   ]
  },
  {
   "cell_type": "code",
   "execution_count": 36,
   "metadata": {},
   "outputs": [
    {
     "ename": "NameError",
     "evalue": "name 'yTrain' is not defined",
     "output_type": "error",
     "traceback": [
      "\u001b[1;31m---------------------------------------------------------------------------\u001b[0m",
      "\u001b[1;31mNameError\u001b[0m                                 Traceback (most recent call last)",
      "\u001b[1;32m<ipython-input-36-a5cb2957a845>\u001b[0m in \u001b[0;36m<module>\u001b[1;34m\u001b[0m\n\u001b[1;32m----> 1\u001b[1;33m \u001b[0mxgb\u001b[0m\u001b[1;33m.\u001b[0m\u001b[0mfit\u001b[0m\u001b[1;33m(\u001b[0m\u001b[0mdf1\u001b[0m\u001b[1;33m,\u001b[0m\u001b[0myTrain\u001b[0m\u001b[1;33m)\u001b[0m\u001b[1;33m\u001b[0m\u001b[1;33m\u001b[0m\u001b[0m\n\u001b[0m",
      "\u001b[1;31mNameError\u001b[0m: name 'yTrain' is not defined"
     ]
    }
   ],
   "source": [
    "xgb.fit(df1,yTrain)"
   ]
  },
  {
   "cell_type": "code",
   "execution_count": 77,
   "metadata": {},
   "outputs": [
    {
     "data": {
      "text/plain": [
       "58.611409442340424"
      ]
     },
     "execution_count": 77,
     "metadata": {},
     "output_type": "execute_result"
    }
   ],
   "source": [
    "xpred= xgb.predict(sTest)\n",
    "acc = accuracy_score(yTrain,xgb.predict(sTrain))*100\n",
    "acc"
   ]
  },
  {
   "cell_type": "code",
   "execution_count": 78,
   "metadata": {},
   "outputs": [],
   "source": [
    "xpred = pd.DataFrame(xpred, columns =['Stay'])"
   ]
  },
  {
   "cell_type": "code",
   "execution_count": 79,
   "metadata": {},
   "outputs": [],
   "source": [
    "xpred['Stay'] = xpred['Stay'].replace({0.0 : '0-10',\n",
    "                                     1.0 : '11-20',\n",
    "                                     2.0 :'21-30',\n",
    "                                     3.0 :'31-40',\n",
    "                                     4.0 :'41-50',\n",
    "                                     5.0 :'51-60',\n",
    "                                     6.0 :'61-70', \n",
    "                                     7.0 :'71-80',\n",
    "                                     8.0 : '81-90',\n",
    "                                     9.0 : '91-100',\n",
    "                                     10.0 : 'More than 100 Days' \n",
    "                                     })"
   ]
  },
  {
   "cell_type": "code",
   "execution_count": 53,
   "metadata": {},
   "outputs": [],
   "source": [
    "sample = pd.read_csv('sample.csv')"
   ]
  },
  {
   "cell_type": "code",
   "execution_count": 81,
   "metadata": {},
   "outputs": [
    {
     "data": {
      "text/html": [
       "<div>\n",
       "<style scoped>\n",
       "    .dataframe tbody tr th:only-of-type {\n",
       "        vertical-align: middle;\n",
       "    }\n",
       "\n",
       "    .dataframe tbody tr th {\n",
       "        vertical-align: top;\n",
       "    }\n",
       "\n",
       "    .dataframe thead th {\n",
       "        text-align: right;\n",
       "    }\n",
       "</style>\n",
       "<table border=\"1\" class=\"dataframe\">\n",
       "  <thead>\n",
       "    <tr style=\"text-align: right;\">\n",
       "      <th></th>\n",
       "      <th>case_id</th>\n",
       "      <th>Stay</th>\n",
       "    </tr>\n",
       "  </thead>\n",
       "  <tbody>\n",
       "    <tr>\n",
       "      <th>0</th>\n",
       "      <td>318439</td>\n",
       "      <td>0-10</td>\n",
       "    </tr>\n",
       "    <tr>\n",
       "      <th>1</th>\n",
       "      <td>318440</td>\n",
       "      <td>0-10</td>\n",
       "    </tr>\n",
       "    <tr>\n",
       "      <th>2</th>\n",
       "      <td>318441</td>\n",
       "      <td>0-10</td>\n",
       "    </tr>\n",
       "    <tr>\n",
       "      <th>3</th>\n",
       "      <td>318442</td>\n",
       "      <td>0-10</td>\n",
       "    </tr>\n",
       "    <tr>\n",
       "      <th>4</th>\n",
       "      <td>318443</td>\n",
       "      <td>0-10</td>\n",
       "    </tr>\n",
       "  </tbody>\n",
       "</table>\n",
       "</div>"
      ],
      "text/plain": [
       "   case_id  Stay\n",
       "0   318439  0-10\n",
       "1   318440  0-10\n",
       "2   318441  0-10\n",
       "3   318442  0-10\n",
       "4   318443  0-10"
      ]
     },
     "execution_count": 81,
     "metadata": {},
     "output_type": "execute_result"
    }
   ],
   "source": [
    "sample.head()"
   ]
  },
  {
   "cell_type": "code",
   "execution_count": 82,
   "metadata": {},
   "outputs": [],
   "source": [
    "sample['Stay'] = xpred"
   ]
  },
  {
   "cell_type": "code",
   "execution_count": 83,
   "metadata": {},
   "outputs": [],
   "source": [
    "sample.to_csv('out22.csv')"
   ]
  },
  {
   "cell_type": "code",
   "execution_count": 49,
   "metadata": {},
   "outputs": [
    {
     "name": "stdout",
     "output_type": "stream",
     "text": [
      "Learning rate set to 0.190699\n",
      "0:\tlearn: 0.3438220\ttotal: 440ms\tremaining: 3m 39s\n",
      "10:\tlearn: 0.3933858\ttotal: 4.56s\tremaining: 3m 22s\n",
      "20:\tlearn: 0.4045466\ttotal: 8.26s\tremaining: 3m 8s\n",
      "30:\tlearn: 0.4093450\ttotal: 12s\tremaining: 3m 1s\n",
      "40:\tlearn: 0.4134525\ttotal: 15.9s\tremaining: 2m 57s\n",
      "50:\tlearn: 0.4160150\ttotal: 19.7s\tremaining: 2m 53s\n",
      "60:\tlearn: 0.4177862\ttotal: 23.5s\tremaining: 2m 48s\n",
      "70:\tlearn: 0.4196296\ttotal: 27.4s\tremaining: 2m 45s\n",
      "80:\tlearn: 0.4207412\ttotal: 31.1s\tremaining: 2m 40s\n",
      "90:\tlearn: 0.4218843\ttotal: 34.7s\tremaining: 2m 36s\n",
      "100:\tlearn: 0.4228327\ttotal: 38.6s\tremaining: 2m 32s\n",
      "110:\tlearn: 0.4242427\ttotal: 42.3s\tremaining: 2m 28s\n",
      "120:\tlearn: 0.4251283\ttotal: 46.1s\tremaining: 2m 24s\n",
      "130:\tlearn: 0.4257658\ttotal: 50s\tremaining: 2m 20s\n",
      "140:\tlearn: 0.4263624\ttotal: 53.8s\tremaining: 2m 16s\n",
      "150:\tlearn: 0.4269842\ttotal: 57.7s\tremaining: 2m 13s\n",
      "160:\tlearn: 0.4276562\ttotal: 1m 1s\tremaining: 2m 9s\n",
      "170:\tlearn: 0.4282089\ttotal: 1m 5s\tremaining: 2m 6s\n",
      "180:\tlearn: 0.4289532\ttotal: 1m 9s\tremaining: 2m 2s\n",
      "190:\tlearn: 0.4295907\ttotal: 1m 13s\tremaining: 1m 58s\n",
      "200:\tlearn: 0.4300492\ttotal: 1m 17s\tremaining: 1m 55s\n",
      "210:\tlearn: 0.4304292\ttotal: 1m 21s\tremaining: 1m 51s\n",
      "220:\tlearn: 0.4308437\ttotal: 1m 25s\tremaining: 1m 47s\n",
      "230:\tlearn: 0.4311137\ttotal: 1m 29s\tremaining: 1m 43s\n",
      "240:\tlearn: 0.4313744\ttotal: 1m 32s\tremaining: 1m 39s\n",
      "250:\tlearn: 0.4318926\ttotal: 1m 36s\tremaining: 1m 35s\n",
      "260:\tlearn: 0.4322600\ttotal: 1m 40s\tremaining: 1m 31s\n",
      "270:\tlearn: 0.4326871\ttotal: 1m 44s\tremaining: 1m 28s\n",
      "280:\tlearn: 0.4333528\ttotal: 1m 48s\tremaining: 1m 24s\n",
      "290:\tlearn: 0.4337924\ttotal: 1m 52s\tremaining: 1m 20s\n",
      "300:\tlearn: 0.4342478\ttotal: 1m 55s\tremaining: 1m 16s\n",
      "310:\tlearn: 0.4347597\ttotal: 1m 59s\tremaining: 1m 12s\n",
      "320:\tlearn: 0.4350486\ttotal: 2m 3s\tremaining: 1m 8s\n",
      "330:\tlearn: 0.4352590\ttotal: 2m 7s\tremaining: 1m 5s\n",
      "340:\tlearn: 0.4358054\ttotal: 2m 11s\tremaining: 1m 1s\n",
      "350:\tlearn: 0.4360755\ttotal: 2m 15s\tremaining: 57.4s\n",
      "360:\tlearn: 0.4363393\ttotal: 2m 19s\tremaining: 53.6s\n",
      "370:\tlearn: 0.4364743\ttotal: 2m 23s\tremaining: 49.8s\n",
      "380:\tlearn: 0.4369548\ttotal: 2m 27s\tremaining: 45.9s\n",
      "390:\tlearn: 0.4372185\ttotal: 2m 31s\tremaining: 42.1s\n",
      "400:\tlearn: 0.4374509\ttotal: 2m 35s\tremaining: 38.3s\n",
      "410:\tlearn: 0.4379565\ttotal: 2m 38s\tremaining: 34.4s\n",
      "420:\tlearn: 0.4382329\ttotal: 2m 42s\tremaining: 30.5s\n",
      "430:\tlearn: 0.4387667\ttotal: 2m 46s\tremaining: 26.7s\n",
      "440:\tlearn: 0.4390180\ttotal: 2m 50s\tremaining: 22.8s\n",
      "450:\tlearn: 0.4396115\ttotal: 2m 54s\tremaining: 18.9s\n",
      "460:\tlearn: 0.4400040\ttotal: 2m 57s\tremaining: 15s\n",
      "470:\tlearn: 0.4402866\ttotal: 3m 1s\tremaining: 11.2s\n",
      "480:\tlearn: 0.4407043\ttotal: 3m 5s\tremaining: 7.32s\n",
      "490:\tlearn: 0.4410372\ttotal: 3m 9s\tremaining: 3.46s\n",
      "499:\tlearn: 0.4413198\ttotal: 3m 12s\tremaining: 0us\n"
     ]
    },
    {
     "data": {
      "text/plain": [
       "<catboost.core.CatBoostClassifier at 0x29109ab4910>"
      ]
     },
     "execution_count": 49,
     "metadata": {},
     "output_type": "execute_result"
    }
   ],
   "source": [
    "catboost = CatBoostClassifier(eval_metric='Accuracy', max_depth=5, n_estimators=500, verbose=10 )\n",
    "catboost.fit( sTrain, yTrain )   \n",
    " \n",
    " "
   ]
  },
  {
   "cell_type": "code",
   "execution_count": 50,
   "metadata": {},
   "outputs": [],
   "source": [
    "pred = catboost.predict(sTest)"
   ]
  },
  {
   "cell_type": "code",
   "execution_count": 51,
   "metadata": {},
   "outputs": [
    {
     "name": "stdout",
     "output_type": "stream",
     "text": [
      "44.13198173584811\n"
     ]
    }
   ],
   "source": [
    "tpred = catboost.predict(sTrain)\n",
    "print(accuracy_score(yTrain,tpred)*100)\n",
    "pred1 = pd.DataFrame(pred, columns =['Stay'])"
   ]
  },
  {
   "cell_type": "code",
   "execution_count": 54,
   "metadata": {},
   "outputs": [
    {
     "name": "stdout",
     "output_type": "stream",
     "text": [
      "44.13198173584811\n"
     ]
    }
   ],
   "source": [
    "tpred = catboost.predict(sTrain)\n",
    "print(accuracy_score(yTrain,tpred)*100)\n",
    "pred1 = pd.DataFrame(pred, columns =['Stay'])\n",
    "pred1['Stay'] = pred1['Stay'].replace({0.0 : '0-10',\n",
    "                                     1.0 : '11-20',\n",
    "                                     2.0 :'21-30',\n",
    "                                     3.0 :'31-40',\n",
    "                                     4.0 :'41-50',\n",
    "                                     5.0 :'51-60',\n",
    "                                     6.0 :'61-70', \n",
    "                                     7.0 :'71-80',\n",
    "                                     8.0 : '81-90',\n",
    "                                     9.0 : '91-100',\n",
    "                                     10.0 : 'More than 100 Days' \n",
    "                                     })\n",
    "sample['Stay'] = pred1\n",
    "sample.to_csv('out33.csv')"
   ]
  },
  {
   "cell_type": "code",
   "execution_count": 278,
   "metadata": {},
   "outputs": [],
   "source": [
    "pred1 = pd.DataFrame(pred, columns =['Stay'])"
   ]
  },
  {
   "cell_type": "code",
   "execution_count": 297,
   "metadata": {},
   "outputs": [],
   "source": [
    "pred1['Stay'] = pred1['Stay'].replace({0.0 : '0-10',\n",
    "                                     1.0 : '11-20',\n",
    "                                     2.0 :'21-30',\n",
    "                                     3.0 :'31-40',\n",
    "                                     4.0 :'41-50',\n",
    "                                     5.0 :'51-60',\n",
    "                                     6.0 :'61-70', \n",
    "                                     7.0 :'71-80',\n",
    "                                     8.0 : '81-90',\n",
    "                                     9.0 : '91-100',\n",
    "                                     10.0 : 'More than 100 Days' \n",
    "                                     })"
   ]
  },
  {
   "cell_type": "code",
   "execution_count": 298,
   "metadata": {},
   "outputs": [],
   "source": [
    "sample['Stay'] = pred1"
   ]
  },
  {
   "cell_type": "code",
   "execution_count": 299,
   "metadata": {},
   "outputs": [],
   "source": [
    "sample.to_csv('out6.csv')"
   ]
  },
  {
   "cell_type": "code",
   "execution_count": 284,
   "metadata": {},
   "outputs": [
    {
     "name": "stdout",
     "output_type": "stream",
     "text": [
      "Top train features ['Available Extra Rooms in Hospital' 'Ward_Type' 'Bed Grade'\n",
      " 'Visitors with Patient' 'Age' 'Admission_Deposit' 'Emergency' 'Trauma'\n",
      " 'Extreme' 'Minor']\n"
     ]
    }
   ],
   "source": [
    "select_top = SelectKBest(f_classif, k = 10)\n",
    "x_train_new = select_top.fit_transform(Train, yTrain)\n",
    "print('Top train features', Train.columns.values[select_top.get_support()])"
   ]
  },
  {
   "cell_type": "code",
   "execution_count": 285,
   "metadata": {},
   "outputs": [
    {
     "data": {
      "text/plain": [
       "Index(['case_id', 'Hospital_code', 'Hospital_type_code', 'City_Code_Hospital',\n",
       "       'Hospital_region_code', 'Available Extra Rooms in Hospital',\n",
       "       'Ward_Type', 'Ward_Facility_Code', 'Bed Grade', 'patientid',\n",
       "       'City_Code_Patient', 'Visitors with Patient', 'Age',\n",
       "       'Admission_Deposit', 'TB & Chest disease', 'anesthesia', 'gynecology',\n",
       "       'radiotherapy', 'surgery', 'Emergency', 'Trauma', 'Urgent', 'Extreme',\n",
       "       'Minor', 'Moderate'],\n",
       "      dtype='object')"
      ]
     },
     "execution_count": 285,
     "metadata": {},
     "output_type": "execute_result"
    }
   ],
   "source": []
  },
  {
   "cell_type": "code",
   "execution_count": 46,
   "metadata": {},
   "outputs": [],
   "source": [
    "dTrain = Train\n",
    "dTest = Test"
   ]
  },
  {
   "cell_type": "code",
   "execution_count": 47,
   "metadata": {},
   "outputs": [],
   "source": [
    "del dTrain['case_id']\n",
    "del dTrain['Hospital_code']\n",
    "del dTrain['City_Code_Hospital']\n",
    "del dTrain['Hospital_region_code']\n",
    "del dTrain['patientid']\n",
    "del dTrain['City_Code_Patient']\n",
    "del dTest['case_id']\n",
    "del dTest['Hospital_code']\n",
    "del dTest['City_Code_Hospital']\n",
    "del dTest['Hospital_region_code']\n",
    "del dTest['patientid']\n",
    "del dTest['City_Code_Patient']"
   ]
  },
  {
   "cell_type": "code",
   "execution_count": 48,
   "metadata": {},
   "outputs": [],
   "source": [
    "sc = RobustScaler()\n",
    "sdTrain = sc.fit_transform(dTrain)\n",
    "sdTest = sc.fit_transform(dTest)"
   ]
  },
  {
   "cell_type": "code",
   "execution_count": 294,
   "metadata": {},
   "outputs": [
    {
     "name": "stdout",
     "output_type": "stream",
     "text": [
      "Learning rate set to 0.091006\n",
      "0:\tlearn: 0.3590526\ttotal: 445ms\tremaining: 8m 53s\n",
      "100:\tlearn: 0.4047130\ttotal: 33.9s\tremaining: 6m 8s\n",
      "200:\tlearn: 0.4098317\ttotal: 1m 4s\tremaining: 5m 22s\n",
      "300:\tlearn: 0.4129784\ttotal: 1m 35s\tremaining: 4m 45s\n",
      "400:\tlearn: 0.4147181\ttotal: 2m 6s\tremaining: 4m 12s\n",
      "500:\tlearn: 0.4163793\ttotal: 2m 37s\tremaining: 3m 39s\n",
      "600:\tlearn: 0.4175915\ttotal: 3m 9s\tremaining: 3m 8s\n",
      "700:\tlearn: 0.4187032\ttotal: 3m 40s\tremaining: 2m 36s\n",
      "800:\tlearn: 0.4193878\ttotal: 4m 11s\tremaining: 2m 5s\n",
      "900:\tlearn: 0.4204900\ttotal: 4m 43s\tremaining: 1m 34s\n",
      "1000:\tlearn: 0.4213316\ttotal: 5m 14s\tremaining: 1m 2s\n",
      "1100:\tlearn: 0.4221010\ttotal: 5m 45s\tremaining: 31.1s\n",
      "1199:\tlearn: 0.4229018\ttotal: 6m 16s\tremaining: 0us\n"
     ]
    },
    {
     "data": {
      "text/plain": [
       "<catboost.core.CatBoostClassifier at 0x2552da43c10>"
      ]
     },
     "execution_count": 294,
     "metadata": {},
     "output_type": "execute_result"
    }
   ],
   "source": [
    "catboost = CatBoostClassifier(eval_metric='Accuracy', max_depth=4, n_estimators=1200, verbose=100)\n",
    "catboost.fit( sdTrain, yTrain )  "
   ]
  },
  {
   "cell_type": "code",
   "execution_count": 55,
   "metadata": {},
   "outputs": [
    {
     "name": "stdout",
     "output_type": "stream",
     "text": [
      "Accuracy Score  44.882206269352274\n"
     ]
    }
   ],
   "source": [
    "lg = LGBMClassifier(n_estimators=500,num_leaves=10,max_depth=25)\n",
    "lg.fit(sTrain,yTrain)\n",
    "lgp = lg.predict(sTrain)\n",
    "ac = 100 * accuracy_score(yTrain,lgp)\n",
    "print('Accuracy Score ', ac)"
   ]
  },
  {
   "cell_type": "code",
   "execution_count": 295,
   "metadata": {},
   "outputs": [],
   "source": [
    "pred = catboost.predict(sdTest)"
   ]
  },
  {
   "cell_type": "code",
   "execution_count": 296,
   "metadata": {},
   "outputs": [
    {
     "name": "stdout",
     "output_type": "stream",
     "text": [
      "42.29017893593101\n"
     ]
    }
   ],
   "source": [
    "tpred = catboost.predict(sdTrain)\n",
    "print(accuracy_score(yTrain,tpred)*100)\n",
    "pred1 = pd.DataFrame(pred, columns =['Stay'])"
   ]
  },
  {
   "cell_type": "code",
   "execution_count": 311,
   "metadata": {},
   "outputs": [
    {
     "name": "stdout",
     "output_type": "stream",
     "text": [
      "Accuracy Score  81.65137326575346\n"
     ]
    }
   ],
   "source": [
    "lg = LGBMClassifier(n_estimators=480,num_leaves=200,max_depth=20)\n",
    "\n",
    "lg.fit(sTrain,yTrain)\n",
    "lgp = lg.predict(sTrain)\n",
    "\n",
    "ac = 100 * accuracy_score(yTrain,lgp)\n",
    "print('Accuracy Score ', ac)"
   ]
  },
  {
   "cell_type": "code",
   "execution_count": 56,
   "metadata": {},
   "outputs": [],
   "source": [
    "pred = lg.predict(sTest)"
   ]
  },
  {
   "cell_type": "code",
   "execution_count": 57,
   "metadata": {},
   "outputs": [],
   "source": [
    "pred1 = pd.DataFrame(pred, columns =['Stay'])\n",
    "pred1['Stay'] = pred1['Stay'].replace({0.0 : '0-10',\n",
    "                                     1.0 : '11-20',\n",
    "                                     2.0 :'21-30',\n",
    "                                     3.0 :'31-40',\n",
    "                                     4.0 :'41-50',\n",
    "                                     5.0 :'51-60',\n",
    "                                     6.0 :'61-70', \n",
    "                                     7.0 :'71-80',\n",
    "                                     8.0 : '81-90',\n",
    "                                     9.0 : '91-100',\n",
    "                                     10.0 : 'More than 100 Days' \n",
    "                                     })\n",
    "sample['Stay'] = pred1\n",
    "sample.to_csv('out34.csv')"
   ]
  },
  {
   "cell_type": "code",
   "execution_count": 59,
   "metadata": {},
   "outputs": [],
   "source": [
    "rf = RandomForestClassifier(n_estimators=500, min_samples_leaf= 4, max_depth= 15)\n",
    "\n"
   ]
  },
  {
   "cell_type": "code",
   "execution_count": 60,
   "metadata": {},
   "outputs": [
    {
     "name": "stdout",
     "output_type": "stream",
     "text": [
      "Accuracy Score  51.54912416231732\n"
     ]
    }
   ],
   "source": [
    "rf.fit(sTrain,yTrain)\n",
    "rfp = rf.predict(sTrain)\n",
    "\n",
    "ac = 100 * accuracy_score(yTrain,rfp)\n",
    "print('Accuracy Score ', ac)\n"
   ]
  },
  {
   "cell_type": "code",
   "execution_count": 61,
   "metadata": {},
   "outputs": [],
   "source": [
    "pred = rf.predict(sTest)\n",
    "pred1 = pd.DataFrame(pred, columns =['Stay'])\n",
    "pred1['Stay'] = pred1['Stay'].replace({0.0 : '0-10',\n",
    "                                     1.0 : '11-20',\n",
    "                                     2.0 :'21-30',\n",
    "                                     3.0 :'31-40',\n",
    "                                     4.0 :'41-50',\n",
    "                                     5.0 :'51-60',\n",
    "                                     6.0 :'61-70', \n",
    "                                     7.0 :'71-80',\n",
    "                                     8.0 : '81-90',\n",
    "                                     9.0 : '91-100',\n",
    "                                     10.0 : 'More than 100 Days' \n",
    "                                     })\n",
    "sample['Stay'] = pred1\n",
    "sample.to_csv('out35.csv')"
   ]
  },
  {
   "cell_type": "code",
   "execution_count": 62,
   "metadata": {},
   "outputs": [
    {
     "name": "stdout",
     "output_type": "stream",
     "text": [
      "[20:50:44] WARNING: C:/Users/Administrator/workspace/xgboost-win64_release_1.4.0/src/learner.cc:1095: Starting in XGBoost 1.3.0, the default evaluation metric used with the objective 'multi:softprob' was changed from 'merror' to 'mlogloss'. Explicitly set eval_metric if you'd like to restore the old behavior.\n",
      "Accuracy Score  45.6311746713646\n"
     ]
    }
   ],
   "source": [
    "xgb = XGBClassifier(n_estimators= 200, min_child_weight= 1, max_depth= 5, gamma= 0.0, colsample_bytree= 0.5)\n",
    "\n",
    "xgb.fit(sTrain,yTrain)\n",
    "xgbY = xgb.predict(sTrain)\n",
    "\n",
    "ac = 100 * accuracy_score(yTrain,xgbY)\n",
    "print('Accuracy Score ', ac)"
   ]
  },
  {
   "cell_type": "code",
   "execution_count": 328,
   "metadata": {},
   "outputs": [
    {
     "name": "stdout",
     "output_type": "stream",
     "text": [
      "Accuracy Score  36.651718701913715\n"
     ]
    }
   ],
   "source": [
    "rf = LogisticRegression(max_iter=500) \n",
    "\n",
    "rf.fit(sdTrain,yTrain)\n",
    "rfp = rf.predict(sdTrain)\n",
    "\n",
    "ac = 100 * accuracy_score(yTrain,rfp)\n",
    "print('Accuracy Score ', ac)"
   ]
  },
  {
   "cell_type": "code",
   "execution_count": 63,
   "metadata": {},
   "outputs": [],
   "source": [
    "pred = xgb.predict(sTest)\n",
    "pred1 = pd.DataFrame(pred, columns =['Stay'])\n",
    "pred1['Stay'] = pred1['Stay'].replace({0.0 : '0-10',\n",
    "                                     1.0 : '11-20',\n",
    "                                     2.0 :'21-30',\n",
    "                                     3.0 :'31-40',\n",
    "                                     4.0 :'41-50',\n",
    "                                     5.0 :'51-60',\n",
    "                                     6.0 :'61-70', \n",
    "                                     7.0 :'71-80',\n",
    "                                     8.0 : '81-90',\n",
    "                                     9.0 : '91-100',\n",
    "                                     10.0 : 'More than 100 Days' \n",
    "                                     })\n",
    "sample['Stay'] = pred1\n",
    "sample.to_csv('out36.csv')"
   ]
  },
  {
   "cell_type": "code",
   "execution_count": 334,
   "metadata": {},
   "outputs": [
    {
     "name": "stdout",
     "output_type": "stream",
     "text": [
      "Accuracy Score  100.0\n"
     ]
    }
   ],
   "source": [
    "rf = DecisionTreeClassifier() \n",
    "\n",
    "rf.fit(sTrain,yTrain)\n",
    "rfp = rf.predict(sTrain)\n",
    "\n",
    "ac = 100 * accuracy_score(yTrain,rfp)\n",
    "print('Accuracy Score ', ac)"
   ]
  },
  {
   "cell_type": "code",
   "execution_count": 335,
   "metadata": {},
   "outputs": [],
   "source": [
    "pred = rf.predict(sTest)\n",
    "pred1 = pd.DataFrame(pred, columns =['Stay'])\n",
    "pred1['Stay'] = pred1['Stay'].replace({0.0 : '0-10',\n",
    "                                     1.0 : '11-20',\n",
    "                                     2.0 :'21-30',\n",
    "                                     3.0 :'31-40',\n",
    "                                     4.0 :'41-50',\n",
    "                                     5.0 :'51-60',\n",
    "                                     6.0 :'61-70', \n",
    "                                     7.0 :'71-80',\n",
    "                                     8.0 : '81-90',\n",
    "                                     9.0 : '91-100',\n",
    "                                     10.0 : 'More than 100 Days' \n",
    "                                     })\n",
    "sample['Stay'] = pred1\n",
    "sample.to_csv('out12.csv')"
   ]
  },
  {
   "cell_type": "code",
   "execution_count": null,
   "metadata": {},
   "outputs": [],
   "source": [
    "svm = SVC(kernel='rbf', C=1, gamma='auto')\n",
    "svm.fit(sTrain, yTrain)\n",
    "svc = svm.predict(sTrain)\n",
    "\n",
    "sac = 100 * accuracy_score(yTrain,svc)\n",
    "print('Accuracy Score ', sac)"
   ]
  },
  {
   "cell_type": "code",
   "execution_count": 38,
   "metadata": {
    "scrolled": true
   },
   "outputs": [
    {
     "name": "stdout",
     "output_type": "stream",
     "text": [
      "Imported Auto_ViML version: 0.1.682. Call using:\n",
      "             m, feats, trainm, testm = Auto_ViML(train, target, test,\n",
      "                            sample_submission='',\n",
      "                            scoring_parameter='', KMeans_Featurizer=False,\n",
      "                            hyper_param='RS',feature_reduction=True,\n",
      "                             Boosting_Flag='CatBoost', Binning_Flag=False,\n",
      "                            Add_Poly=0, Stacking_Flag=False,Imbalanced_Flag=False,\n",
      "                            verbose=1)\n",
      "            \n",
      "\n",
      "Imported Auto_NLP version: 0.0.46.. Call using:\n",
      "     train_nlp, test_nlp, nlp_pipeline, predictions = Auto_NLP(\n",
      "                nlp_column, train, test, target, score_type='balanced_accuracy',\n",
      "                modeltype='Classification',top_num_features=200, verbose=0,\n",
      "                build_model=True)\n"
     ]
    },
    {
     "data": {
      "text/html": [
       "<style>.container { width:95% !important; }</style>"
      ],
      "text/plain": [
       "<IPython.core.display.HTML object>"
      ]
     },
     "metadata": {},
     "output_type": "display_data"
    }
   ],
   "source": [
    "from autoviml.Auto_ViML import Auto_ViML\n",
    "target = 'Stay'"
   ]
  },
  {
   "cell_type": "code",
   "execution_count": 39,
   "metadata": {},
   "outputs": [
    {
     "ename": "AttributeError",
     "evalue": "'DataFrameLocal' object has no attribute 'index'",
     "output_type": "error",
     "traceback": [
      "\u001b[1;31m---------------------------------------------------------------------------\u001b[0m",
      "\u001b[1;31mAttributeError\u001b[0m                            Traceback (most recent call last)",
      "\u001b[1;32m<ipython-input-39-8d25dac8172c>\u001b[0m in \u001b[0;36m<module>\u001b[1;34m\u001b[0m\n\u001b[1;32m----> 1\u001b[1;33m model, features, trainm, testm = Auto_ViML(df1, target, df2, sample_submission='',\n\u001b[0m\u001b[0;32m      2\u001b[0m                                            \u001b[0mscoring_parameter\u001b[0m \u001b[1;33m=\u001b[0m \u001b[1;34m'balanced_Accuracy'\u001b[0m\u001b[1;33m,\u001b[0m\u001b[1;33m\u001b[0m\u001b[1;33m\u001b[0m\u001b[0m\n\u001b[0;32m      3\u001b[0m                                           \u001b[0mhyper_param\u001b[0m \u001b[1;33m=\u001b[0m \u001b[1;34m'RS'\u001b[0m\u001b[1;33m,\u001b[0m\u001b[1;33m\u001b[0m\u001b[1;33m\u001b[0m\u001b[0m\n\u001b[0;32m      4\u001b[0m                                           \u001b[0mfeature_reduction\u001b[0m\u001b[1;33m=\u001b[0m\u001b[1;32mTrue\u001b[0m\u001b[1;33m,\u001b[0m\u001b[1;33m\u001b[0m\u001b[1;33m\u001b[0m\u001b[0m\n\u001b[0;32m      5\u001b[0m                                           \u001b[0mBoosting_Flag\u001b[0m\u001b[1;33m=\u001b[0m \u001b[1;32mTrue\u001b[0m\u001b[1;33m,\u001b[0m\u001b[1;33m\u001b[0m\u001b[1;33m\u001b[0m\u001b[0m\n",
      "\u001b[1;32mC:\\ProgramData\\Anaconda3\\lib\\site-packages\\autoviml\\Auto_ViML.py\u001b[0m in \u001b[0;36mAuto_ViML\u001b[1;34m(train, target, test, sample_submission, hyper_param, feature_reduction, scoring_parameter, Boosting_Flag, KMeans_Featurizer, Add_Poly, Stacking_Flag, Binning_Flag, Imbalanced_Flag, verbose)\u001b[0m\n\u001b[0;32m    473\u001b[0m     \u001b[0morig_train\u001b[0m \u001b[1;33m=\u001b[0m \u001b[0mcopy\u001b[0m\u001b[1;33m.\u001b[0m\u001b[0mdeepcopy\u001b[0m\u001b[1;33m(\u001b[0m\u001b[0mtrain\u001b[0m\u001b[1;33m)\u001b[0m\u001b[1;33m\u001b[0m\u001b[1;33m\u001b[0m\u001b[0m\n\u001b[0;32m    474\u001b[0m     \u001b[0morig_test\u001b[0m \u001b[1;33m=\u001b[0m \u001b[0mcopy\u001b[0m\u001b[1;33m.\u001b[0m\u001b[0mdeepcopy\u001b[0m\u001b[1;33m(\u001b[0m\u001b[0mtest\u001b[0m\u001b[1;33m)\u001b[0m\u001b[1;33m\u001b[0m\u001b[1;33m\u001b[0m\u001b[0m\n\u001b[1;32m--> 475\u001b[1;33m     \u001b[0mtrain_index\u001b[0m \u001b[1;33m=\u001b[0m \u001b[0mtrain\u001b[0m\u001b[1;33m.\u001b[0m\u001b[0mindex\u001b[0m\u001b[1;33m\u001b[0m\u001b[1;33m\u001b[0m\u001b[0m\n\u001b[0m\u001b[0;32m    476\u001b[0m     \u001b[1;32mif\u001b[0m \u001b[1;32mnot\u001b[0m \u001b[0misinstance\u001b[0m\u001b[1;33m(\u001b[0m\u001b[0mtest\u001b[0m\u001b[1;33m,\u001b[0m \u001b[0mstr\u001b[0m\u001b[1;33m)\u001b[0m\u001b[1;33m:\u001b[0m\u001b[1;33m\u001b[0m\u001b[1;33m\u001b[0m\u001b[0m\n\u001b[0;32m    477\u001b[0m         \u001b[0mtest_index\u001b[0m \u001b[1;33m=\u001b[0m \u001b[0mtest\u001b[0m\u001b[1;33m.\u001b[0m\u001b[0mindex\u001b[0m\u001b[1;33m\u001b[0m\u001b[1;33m\u001b[0m\u001b[0m\n",
      "\u001b[1;32mC:\\ProgramData\\Anaconda3\\lib\\site-packages\\vaex\\dataframe.py\u001b[0m in \u001b[0;36m__getattr__\u001b[1;34m(self, name)\u001b[0m\n\u001b[0;32m    202\u001b[0m             \u001b[1;32mreturn\u001b[0m \u001b[0mself\u001b[0m\u001b[1;33m.\u001b[0m\u001b[0m__hidden__\u001b[0m\u001b[1;33m[\u001b[0m\u001b[0mname\u001b[0m\u001b[1;33m]\u001b[0m\u001b[1;33m.\u001b[0m\u001b[0m__get__\u001b[0m\u001b[1;33m(\u001b[0m\u001b[0mself\u001b[0m\u001b[1;33m)\u001b[0m\u001b[1;33m\u001b[0m\u001b[1;33m\u001b[0m\u001b[0m\n\u001b[0;32m    203\u001b[0m         \u001b[1;32melse\u001b[0m\u001b[1;33m:\u001b[0m\u001b[1;33m\u001b[0m\u001b[1;33m\u001b[0m\u001b[0m\n\u001b[1;32m--> 204\u001b[1;33m             \u001b[1;32mreturn\u001b[0m \u001b[0mobject\u001b[0m\u001b[1;33m.\u001b[0m\u001b[0m__getattribute__\u001b[0m\u001b[1;33m(\u001b[0m\u001b[0mself\u001b[0m\u001b[1;33m,\u001b[0m \u001b[0mname\u001b[0m\u001b[1;33m)\u001b[0m\u001b[1;33m\u001b[0m\u001b[1;33m\u001b[0m\u001b[0m\n\u001b[0m\u001b[0;32m    205\u001b[0m \u001b[1;33m\u001b[0m\u001b[0m\n\u001b[0;32m    206\u001b[0m     \u001b[1;32mdef\u001b[0m \u001b[0m_ipython_key_completions_\u001b[0m\u001b[1;33m(\u001b[0m\u001b[0mself\u001b[0m\u001b[1;33m)\u001b[0m\u001b[1;33m:\u001b[0m\u001b[1;33m\u001b[0m\u001b[1;33m\u001b[0m\u001b[0m\n",
      "\u001b[1;31mAttributeError\u001b[0m: 'DataFrameLocal' object has no attribute 'index'"
     ]
    }
   ],
   "source": [
    "model, features, trainm, testm = Auto_ViML(df1, target, df2, sample_submission='',\n",
    "                                           scoring_parameter = 'balanced_Accuracy',\n",
    "                                          hyper_param = 'RS',\n",
    "                                          feature_reduction=True,\n",
    "                                          Boosting_Flag= True,\n",
    "                                          Binning_Flag=True,\n",
    "                                          Add_Poly=0,\n",
    "                                          Stacking_Flag=True,\n",
    "                                          Imbalanced_Flag=True,\n",
    "                                          verbose=1)"
   ]
  },
  {
   "cell_type": "code",
   "execution_count": 46,
   "metadata": {},
   "outputs": [
    {
     "data": {
      "text/plain": [
       "CalibratedClassifierCV(base_estimator=OneVsRestClassifier(estimator=XGBClassifier(base_score=None,\n",
       "                                                                                  booster='gbtree',\n",
       "                                                                                  colsample_bylevel=None,\n",
       "                                                                                  colsample_bynode=None,\n",
       "                                                                                  colsample_bytree=None,\n",
       "                                                                                  gamma=None,\n",
       "                                                                                  gpu_id=None,\n",
       "                                                                                  importance_type='gain',\n",
       "                                                                                  interaction_constraints=None,\n",
       "                                                                                  learning_rate=None,\n",
       "                                                                                  max_delta_step=None,\n",
       "                                                                                  max_depth=None,\n",
       "                                                                                  min_child_weight=None,\n",
       "                                                                                  missing=nan,\n",
       "                                                                                  monotone_constraints=None,\n",
       "                                                                                  n_estimators=200,\n",
       "                                                                                  n_jobs=-1,\n",
       "                                                                                  nthread=-1,\n",
       "                                                                                  num_parallel_tree=None,\n",
       "                                                                                  random_state=99,\n",
       "                                                                                  reg_alpha=None,\n",
       "                                                                                  reg_lambda=None,\n",
       "                                                                                  scale_pos_weight=None,\n",
       "                                                                                  subsample=None,\n",
       "                                                                                  tree_method=None,\n",
       "                                                                                  validate_parameters=None,\n",
       "                                                                                  verbosity=None)),\n",
       "                       cv=5, method='isotonic')"
      ]
     },
     "execution_count": 46,
     "metadata": {},
     "output_type": "execute_result"
    }
   ],
   "source": [
    "model"
   ]
  },
  {
   "cell_type": "code",
   "execution_count": 47,
   "metadata": {},
   "outputs": [
    {
     "data": {
      "text/plain": [
       "['Visitors with Patient',\n",
       " 'Ward_Type',\n",
       " 'Type of Admission',\n",
       " 'Available Extra Rooms in Hospital',\n",
       " 'Severity of Illness',\n",
       " 'Hospital_type_code',\n",
       " 'Hospital_region_code',\n",
       " 'City_Code_Hospital',\n",
       " 'Ward_Facility_Code',\n",
       " 'Hospital_code',\n",
       " 'Department',\n",
       " 'Age',\n",
       " 'patientid',\n",
       " 'City_Code_Patient_Missing_Flag',\n",
       " 'Bed Grade_Missing_Flag',\n",
       " 'Bed Grade_bin',\n",
       " 'Linear Discriminant_0',\n",
       " 'Linear Discriminant_1']"
      ]
     },
     "execution_count": 47,
     "metadata": {},
     "output_type": "execute_result"
    }
   ],
   "source": [
    "features"
   ]
  },
  {
   "cell_type": "code",
   "execution_count": 48,
   "metadata": {},
   "outputs": [
    {
     "data": {
      "text/html": [
       "<div>\n",
       "<style scoped>\n",
       "    .dataframe tbody tr th:only-of-type {\n",
       "        vertical-align: middle;\n",
       "    }\n",
       "\n",
       "    .dataframe tbody tr th {\n",
       "        vertical-align: top;\n",
       "    }\n",
       "\n",
       "    .dataframe thead th {\n",
       "        text-align: right;\n",
       "    }\n",
       "</style>\n",
       "<table border=\"1\" class=\"dataframe\">\n",
       "  <thead>\n",
       "    <tr style=\"text-align: right;\">\n",
       "      <th></th>\n",
       "      <th>case_id</th>\n",
       "      <th>Visitors with Patient</th>\n",
       "      <th>Ward_Type</th>\n",
       "      <th>Type of Admission</th>\n",
       "      <th>Available Extra Rooms in Hospital</th>\n",
       "      <th>Severity of Illness</th>\n",
       "      <th>Hospital_type_code</th>\n",
       "      <th>Hospital_region_code</th>\n",
       "      <th>City_Code_Hospital</th>\n",
       "      <th>Ward_Facility_Code</th>\n",
       "      <th>Hospital_code</th>\n",
       "      <th>Department</th>\n",
       "      <th>Age</th>\n",
       "      <th>patientid</th>\n",
       "      <th>City_Code_Patient_Missing_Flag</th>\n",
       "      <th>Bed Grade_Missing_Flag</th>\n",
       "      <th>Bed Grade_bin</th>\n",
       "      <th>Linear Discriminant_0</th>\n",
       "      <th>Linear Discriminant_1</th>\n",
       "      <th>Stay_proba_21-30</th>\n",
       "      <th>Stay_proba_11-20</th>\n",
       "      <th>Stay_proba_31-40</th>\n",
       "      <th>Stay_proba_51-60</th>\n",
       "      <th>Stay_proba_0-10</th>\n",
       "      <th>Stay_proba_41-50</th>\n",
       "      <th>Stay_proba_71-80</th>\n",
       "      <th>Stay_proba_More than 100 Days</th>\n",
       "      <th>Stay_proba_81-90</th>\n",
       "      <th>Stay_proba_91-100</th>\n",
       "      <th>Stay_proba_61-70</th>\n",
       "      <th>Stay_predictions</th>\n",
       "      <th>Stay_Stacked_Linear Discriminant_predictions</th>\n",
       "    </tr>\n",
       "  </thead>\n",
       "  <tbody>\n",
       "    <tr>\n",
       "      <th>0</th>\n",
       "      <td>318439</td>\n",
       "      <td>0.06</td>\n",
       "      <td>0.60</td>\n",
       "      <td>0.00</td>\n",
       "      <td>0.12</td>\n",
       "      <td>1.00</td>\n",
       "      <td>0.33</td>\n",
       "      <td>1.00</td>\n",
       "      <td>0.17</td>\n",
       "      <td>0.00</td>\n",
       "      <td>0.65</td>\n",
       "      <td>0.50</td>\n",
       "      <td>0.78</td>\n",
       "      <td>0.13</td>\n",
       "      <td>0.00</td>\n",
       "      <td>0.00</td>\n",
       "      <td>0.33</td>\n",
       "      <td>0.98</td>\n",
       "      <td>0.02</td>\n",
       "      <td>0.33</td>\n",
       "      <td>0.26</td>\n",
       "      <td>0.13</td>\n",
       "      <td>0.06</td>\n",
       "      <td>0.14</td>\n",
       "      <td>0.04</td>\n",
       "      <td>0.01</td>\n",
       "      <td>0.01</td>\n",
       "      <td>0.01</td>\n",
       "      <td>0.01</td>\n",
       "      <td>0.01</td>\n",
       "      <td>21-30</td>\n",
       "      <td>21-30</td>\n",
       "    </tr>\n",
       "    <tr>\n",
       "      <th>1</th>\n",
       "      <td>318440</td>\n",
       "      <td>0.12</td>\n",
       "      <td>0.60</td>\n",
       "      <td>0.50</td>\n",
       "      <td>0.08</td>\n",
       "      <td>1.00</td>\n",
       "      <td>0.00</td>\n",
       "      <td>0.00</td>\n",
       "      <td>0.25</td>\n",
       "      <td>1.00</td>\n",
       "      <td>0.90</td>\n",
       "      <td>0.50</td>\n",
       "      <td>0.78</td>\n",
       "      <td>0.13</td>\n",
       "      <td>0.00</td>\n",
       "      <td>0.00</td>\n",
       "      <td>0.33</td>\n",
       "      <td>0.98</td>\n",
       "      <td>0.02</td>\n",
       "      <td>0.01</td>\n",
       "      <td>0.04</td>\n",
       "      <td>0.16</td>\n",
       "      <td>0.49</td>\n",
       "      <td>0.00</td>\n",
       "      <td>0.02</td>\n",
       "      <td>0.17</td>\n",
       "      <td>0.02</td>\n",
       "      <td>0.00</td>\n",
       "      <td>0.07</td>\n",
       "      <td>0.01</td>\n",
       "      <td>51-60</td>\n",
       "      <td>21-30</td>\n",
       "    </tr>\n",
       "    <tr>\n",
       "      <th>2</th>\n",
       "      <td>318441</td>\n",
       "      <td>0.09</td>\n",
       "      <td>0.20</td>\n",
       "      <td>0.00</td>\n",
       "      <td>0.12</td>\n",
       "      <td>1.00</td>\n",
       "      <td>0.17</td>\n",
       "      <td>0.50</td>\n",
       "      <td>0.08</td>\n",
       "      <td>0.60</td>\n",
       "      <td>0.81</td>\n",
       "      <td>0.50</td>\n",
       "      <td>0.78</td>\n",
       "      <td>0.13</td>\n",
       "      <td>0.00</td>\n",
       "      <td>0.00</td>\n",
       "      <td>1.00</td>\n",
       "      <td>0.98</td>\n",
       "      <td>0.02</td>\n",
       "      <td>0.34</td>\n",
       "      <td>0.21</td>\n",
       "      <td>0.13</td>\n",
       "      <td>0.04</td>\n",
       "      <td>0.15</td>\n",
       "      <td>0.08</td>\n",
       "      <td>0.01</td>\n",
       "      <td>0.01</td>\n",
       "      <td>0.02</td>\n",
       "      <td>0.00</td>\n",
       "      <td>0.02</td>\n",
       "      <td>21-30</td>\n",
       "      <td>21-30</td>\n",
       "    </tr>\n",
       "    <tr>\n",
       "      <th>3</th>\n",
       "      <td>318442</td>\n",
       "      <td>0.09</td>\n",
       "      <td>0.20</td>\n",
       "      <td>0.50</td>\n",
       "      <td>0.12</td>\n",
       "      <td>1.00</td>\n",
       "      <td>0.00</td>\n",
       "      <td>0.00</td>\n",
       "      <td>0.42</td>\n",
       "      <td>1.00</td>\n",
       "      <td>0.16</td>\n",
       "      <td>0.50</td>\n",
       "      <td>0.78</td>\n",
       "      <td>0.13</td>\n",
       "      <td>0.00</td>\n",
       "      <td>0.00</td>\n",
       "      <td>0.33</td>\n",
       "      <td>0.99</td>\n",
       "      <td>0.01</td>\n",
       "      <td>0.52</td>\n",
       "      <td>0.19</td>\n",
       "      <td>0.16</td>\n",
       "      <td>0.04</td>\n",
       "      <td>0.03</td>\n",
       "      <td>0.05</td>\n",
       "      <td>0.00</td>\n",
       "      <td>0.00</td>\n",
       "      <td>0.00</td>\n",
       "      <td>0.00</td>\n",
       "      <td>0.01</td>\n",
       "      <td>21-30</td>\n",
       "      <td>21-30</td>\n",
       "    </tr>\n",
       "    <tr>\n",
       "      <th>4</th>\n",
       "      <td>318443</td>\n",
       "      <td>0.12</td>\n",
       "      <td>0.40</td>\n",
       "      <td>0.50</td>\n",
       "      <td>0.08</td>\n",
       "      <td>1.00</td>\n",
       "      <td>0.17</td>\n",
       "      <td>0.00</td>\n",
       "      <td>0.83</td>\n",
       "      <td>1.00</td>\n",
       "      <td>0.87</td>\n",
       "      <td>0.50</td>\n",
       "      <td>0.78</td>\n",
       "      <td>0.13</td>\n",
       "      <td>0.00</td>\n",
       "      <td>0.00</td>\n",
       "      <td>0.33</td>\n",
       "      <td>0.98</td>\n",
       "      <td>0.02</td>\n",
       "      <td>0.02</td>\n",
       "      <td>0.05</td>\n",
       "      <td>0.16</td>\n",
       "      <td>0.55</td>\n",
       "      <td>0.00</td>\n",
       "      <td>0.02</td>\n",
       "      <td>0.15</td>\n",
       "      <td>0.02</td>\n",
       "      <td>0.00</td>\n",
       "      <td>0.03</td>\n",
       "      <td>0.01</td>\n",
       "      <td>51-60</td>\n",
       "      <td>21-30</td>\n",
       "    </tr>\n",
       "  </tbody>\n",
       "</table>\n",
       "</div>"
      ],
      "text/plain": [
       "   case_id  Visitors with Patient  Ward_Type  Type of Admission  \\\n",
       "0   318439                   0.06       0.60               0.00   \n",
       "1   318440                   0.12       0.60               0.50   \n",
       "2   318441                   0.09       0.20               0.00   \n",
       "3   318442                   0.09       0.20               0.50   \n",
       "4   318443                   0.12       0.40               0.50   \n",
       "\n",
       "   Available Extra Rooms in Hospital  Severity of Illness  Hospital_type_code  \\\n",
       "0                               0.12                 1.00                0.33   \n",
       "1                               0.08                 1.00                0.00   \n",
       "2                               0.12                 1.00                0.17   \n",
       "3                               0.12                 1.00                0.00   \n",
       "4                               0.08                 1.00                0.17   \n",
       "\n",
       "   Hospital_region_code  City_Code_Hospital  Ward_Facility_Code  \\\n",
       "0                  1.00                0.17                0.00   \n",
       "1                  0.00                0.25                1.00   \n",
       "2                  0.50                0.08                0.60   \n",
       "3                  0.00                0.42                1.00   \n",
       "4                  0.00                0.83                1.00   \n",
       "\n",
       "   Hospital_code  Department  Age  patientid  City_Code_Patient_Missing_Flag  \\\n",
       "0           0.65        0.50 0.78       0.13                            0.00   \n",
       "1           0.90        0.50 0.78       0.13                            0.00   \n",
       "2           0.81        0.50 0.78       0.13                            0.00   \n",
       "3           0.16        0.50 0.78       0.13                            0.00   \n",
       "4           0.87        0.50 0.78       0.13                            0.00   \n",
       "\n",
       "   Bed Grade_Missing_Flag  Bed Grade_bin  Linear Discriminant_0  \\\n",
       "0                    0.00           0.33                   0.98   \n",
       "1                    0.00           0.33                   0.98   \n",
       "2                    0.00           1.00                   0.98   \n",
       "3                    0.00           0.33                   0.99   \n",
       "4                    0.00           0.33                   0.98   \n",
       "\n",
       "   Linear Discriminant_1  Stay_proba_21-30  Stay_proba_11-20  \\\n",
       "0                   0.02              0.33              0.26   \n",
       "1                   0.02              0.01              0.04   \n",
       "2                   0.02              0.34              0.21   \n",
       "3                   0.01              0.52              0.19   \n",
       "4                   0.02              0.02              0.05   \n",
       "\n",
       "   Stay_proba_31-40  Stay_proba_51-60  Stay_proba_0-10  Stay_proba_41-50  \\\n",
       "0              0.13              0.06             0.14              0.04   \n",
       "1              0.16              0.49             0.00              0.02   \n",
       "2              0.13              0.04             0.15              0.08   \n",
       "3              0.16              0.04             0.03              0.05   \n",
       "4              0.16              0.55             0.00              0.02   \n",
       "\n",
       "   Stay_proba_71-80  Stay_proba_More than 100 Days  Stay_proba_81-90  \\\n",
       "0              0.01                           0.01              0.01   \n",
       "1              0.17                           0.02              0.00   \n",
       "2              0.01                           0.01              0.02   \n",
       "3              0.00                           0.00              0.00   \n",
       "4              0.15                           0.02              0.00   \n",
       "\n",
       "   Stay_proba_91-100  Stay_proba_61-70 Stay_predictions  \\\n",
       "0               0.01              0.01            21-30   \n",
       "1               0.07              0.01            51-60   \n",
       "2               0.00              0.02            21-30   \n",
       "3               0.00              0.01            21-30   \n",
       "4               0.03              0.01            51-60   \n",
       "\n",
       "  Stay_Stacked_Linear Discriminant_predictions  \n",
       "0                                        21-30  \n",
       "1                                        21-30  \n",
       "2                                        21-30  \n",
       "3                                        21-30  \n",
       "4                                        21-30  "
      ]
     },
     "execution_count": 48,
     "metadata": {},
     "output_type": "execute_result"
    }
   ],
   "source": [
    "testm.head()"
   ]
  },
  {
   "cell_type": "code",
   "execution_count": 49,
   "metadata": {},
   "outputs": [
    {
     "data": {
      "text/html": [
       "<div>\n",
       "<style scoped>\n",
       "    .dataframe tbody tr th:only-of-type {\n",
       "        vertical-align: middle;\n",
       "    }\n",
       "\n",
       "    .dataframe tbody tr th {\n",
       "        vertical-align: top;\n",
       "    }\n",
       "\n",
       "    .dataframe thead th {\n",
       "        text-align: right;\n",
       "    }\n",
       "</style>\n",
       "<table border=\"1\" class=\"dataframe\">\n",
       "  <thead>\n",
       "    <tr style=\"text-align: right;\">\n",
       "      <th></th>\n",
       "      <th>Visitors with Patient</th>\n",
       "      <th>Ward_Type</th>\n",
       "      <th>Type of Admission</th>\n",
       "      <th>Available Extra Rooms in Hospital</th>\n",
       "      <th>Severity of Illness</th>\n",
       "      <th>Hospital_type_code</th>\n",
       "      <th>Hospital_region_code</th>\n",
       "      <th>City_Code_Hospital</th>\n",
       "      <th>Ward_Facility_Code</th>\n",
       "      <th>Hospital_code</th>\n",
       "      <th>Department</th>\n",
       "      <th>Age</th>\n",
       "      <th>patientid</th>\n",
       "      <th>City_Code_Patient_Missing_Flag</th>\n",
       "      <th>Bed Grade_Missing_Flag</th>\n",
       "      <th>Stay</th>\n",
       "      <th>Bed Grade_bin</th>\n",
       "      <th>Linear Discriminant_0</th>\n",
       "      <th>Linear Discriminant_1</th>\n",
       "    </tr>\n",
       "  </thead>\n",
       "  <tbody>\n",
       "    <tr>\n",
       "      <th>0</th>\n",
       "      <td>2</td>\n",
       "      <td>2</td>\n",
       "      <td>0</td>\n",
       "      <td>3</td>\n",
       "      <td>0</td>\n",
       "      <td>2</td>\n",
       "      <td>2</td>\n",
       "      <td>3</td>\n",
       "      <td>5</td>\n",
       "      <td>8</td>\n",
       "      <td>3</td>\n",
       "      <td>5</td>\n",
       "      <td>31397</td>\n",
       "      <td>0</td>\n",
       "      <td>0</td>\n",
       "      <td>4</td>\n",
       "      <td>1</td>\n",
       "      <td>0.99</td>\n",
       "      <td>0.01</td>\n",
       "    </tr>\n",
       "    <tr>\n",
       "      <th>1</th>\n",
       "      <td>2</td>\n",
       "      <td>3</td>\n",
       "      <td>1</td>\n",
       "      <td>2</td>\n",
       "      <td>0</td>\n",
       "      <td>2</td>\n",
       "      <td>2</td>\n",
       "      <td>5</td>\n",
       "      <td>5</td>\n",
       "      <td>2</td>\n",
       "      <td>3</td>\n",
       "      <td>5</td>\n",
       "      <td>31397</td>\n",
       "      <td>0</td>\n",
       "      <td>0</td>\n",
       "      <td>5</td>\n",
       "      <td>1</td>\n",
       "      <td>0.99</td>\n",
       "      <td>0.01</td>\n",
       "    </tr>\n",
       "    <tr>\n",
       "      <th>2</th>\n",
       "      <td>2</td>\n",
       "      <td>3</td>\n",
       "      <td>1</td>\n",
       "      <td>2</td>\n",
       "      <td>0</td>\n",
       "      <td>4</td>\n",
       "      <td>0</td>\n",
       "      <td>1</td>\n",
       "      <td>4</td>\n",
       "      <td>10</td>\n",
       "      <td>1</td>\n",
       "      <td>5</td>\n",
       "      <td>31397</td>\n",
       "      <td>0</td>\n",
       "      <td>0</td>\n",
       "      <td>2</td>\n",
       "      <td>1</td>\n",
       "      <td>0.99</td>\n",
       "      <td>0.01</td>\n",
       "    </tr>\n",
       "    <tr>\n",
       "      <th>3</th>\n",
       "      <td>2</td>\n",
       "      <td>2</td>\n",
       "      <td>1</td>\n",
       "      <td>2</td>\n",
       "      <td>0</td>\n",
       "      <td>1</td>\n",
       "      <td>1</td>\n",
       "      <td>2</td>\n",
       "      <td>3</td>\n",
       "      <td>26</td>\n",
       "      <td>3</td>\n",
       "      <td>5</td>\n",
       "      <td>31397</td>\n",
       "      <td>0</td>\n",
       "      <td>0</td>\n",
       "      <td>5</td>\n",
       "      <td>1</td>\n",
       "      <td>0.99</td>\n",
       "      <td>0.01</td>\n",
       "    </tr>\n",
       "    <tr>\n",
       "      <th>4</th>\n",
       "      <td>2</td>\n",
       "      <td>3</td>\n",
       "      <td>1</td>\n",
       "      <td>2</td>\n",
       "      <td>0</td>\n",
       "      <td>1</td>\n",
       "      <td>1</td>\n",
       "      <td>2</td>\n",
       "      <td>3</td>\n",
       "      <td>26</td>\n",
       "      <td>3</td>\n",
       "      <td>5</td>\n",
       "      <td>31397</td>\n",
       "      <td>0</td>\n",
       "      <td>0</td>\n",
       "      <td>5</td>\n",
       "      <td>1</td>\n",
       "      <td>0.99</td>\n",
       "      <td>0.01</td>\n",
       "    </tr>\n",
       "  </tbody>\n",
       "</table>\n",
       "</div>"
      ],
      "text/plain": [
       "   Visitors with Patient  Ward_Type  Type of Admission  \\\n",
       "0                      2          2                  0   \n",
       "1                      2          3                  1   \n",
       "2                      2          3                  1   \n",
       "3                      2          2                  1   \n",
       "4                      2          3                  1   \n",
       "\n",
       "   Available Extra Rooms in Hospital  Severity of Illness  Hospital_type_code  \\\n",
       "0                                  3                    0                   2   \n",
       "1                                  2                    0                   2   \n",
       "2                                  2                    0                   4   \n",
       "3                                  2                    0                   1   \n",
       "4                                  2                    0                   1   \n",
       "\n",
       "   Hospital_region_code  City_Code_Hospital  Ward_Facility_Code  \\\n",
       "0                     2                   3                   5   \n",
       "1                     2                   5                   5   \n",
       "2                     0                   1                   4   \n",
       "3                     1                   2                   3   \n",
       "4                     1                   2                   3   \n",
       "\n",
       "   Hospital_code  Department  Age  patientid  City_Code_Patient_Missing_Flag  \\\n",
       "0              8           3    5      31397                               0   \n",
       "1              2           3    5      31397                               0   \n",
       "2             10           1    5      31397                               0   \n",
       "3             26           3    5      31397                               0   \n",
       "4             26           3    5      31397                               0   \n",
       "\n",
       "   Bed Grade_Missing_Flag  Stay  Bed Grade_bin  Linear Discriminant_0  \\\n",
       "0                       0     4              1                   0.99   \n",
       "1                       0     5              1                   0.99   \n",
       "2                       0     2              1                   0.99   \n",
       "3                       0     5              1                   0.99   \n",
       "4                       0     5              1                   0.99   \n",
       "\n",
       "   Linear Discriminant_1  \n",
       "0                   0.01  \n",
       "1                   0.01  \n",
       "2                   0.01  \n",
       "3                   0.01  \n",
       "4                   0.01  "
      ]
     },
     "execution_count": 49,
     "metadata": {},
     "output_type": "execute_result"
    }
   ],
   "source": [
    "trainm.head()"
   ]
  },
  {
   "cell_type": "code",
   "execution_count": null,
   "metadata": {},
   "outputs": [],
   "source": []
  }
 ],
 "metadata": {
  "kernelspec": {
   "display_name": "Python 3",
   "language": "python",
   "name": "python3"
  },
  "language_info": {
   "codemirror_mode": {
    "name": "ipython",
    "version": 3
   },
   "file_extension": ".py",
   "mimetype": "text/x-python",
   "name": "python",
   "nbconvert_exporter": "python",
   "pygments_lexer": "ipython3",
   "version": "3.8.3"
  }
 },
 "nbformat": 4,
 "nbformat_minor": 4
}
